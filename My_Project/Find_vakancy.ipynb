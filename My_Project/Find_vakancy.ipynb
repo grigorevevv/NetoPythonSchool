{
 "cells": [
  {
   "attachments": {},
   "cell_type": "markdown",
   "metadata": {},
   "source": [
    "## Импорт вакансий с сайта HH.ru(в стадии разработки!)\n",
    "### импортируем необходимые библиотеки"
   ]
  },
  {
   "cell_type": "code",
   "execution_count": 97,
   "metadata": {},
   "outputs": [],
   "source": [
    "import requests\n",
    "import openpyxl\n",
    "import numpy"
   ]
  },
  {
   "attachments": {},
   "cell_type": "markdown",
   "metadata": {},
   "source": [
    "###### pp = 20                        # количество вакансий на 1 странице    \n",
    "###### params =   \n",
    "###### 'text': 'NAME:Аналитик данных', # Текст фильтра. В имени должно быть слово например \"Аналитик\" '\"Медицинский статистик\"\n",
    "###### 'area': 1, # Поиск ощуществляется по вакансиям города Москва\n",
    "###### 'page': 0, # Индекс страницы поиска на HH\n",
    "###### 'per_page': pp # Кол-во вакансий на 1 странице"
   ]
  },
  {
   "cell_type": "code",
   "execution_count": 98,
   "metadata": {},
   "outputs": [],
   "source": [
    "pp = 20 \n",
    "params = {  \n",
    "    'text': 'NAME:Аналитик данных', \n",
    "    'area': 1, \n",
    "    'page': 0, \n",
    "    'per_page': pp\n",
    "}\n",
    "\n",
    "rezult = requests.get(f'https://api.hh.ru/vacancies/', params) # Получеам API запрос с сайтп hh\n",
    "stroka_site = rezult.content.decode()"
   ]
  },
  {
   "attachments": {},
   "cell_type": "markdown",
   "metadata": {},
   "source": [
    "#### Проверка соединения и выгрзуки данных"
   ]
  },
  {
   "cell_type": "code",
   "execution_count": 99,
   "metadata": {},
   "outputs": [
    {
     "name": "stdout",
     "output_type": "stream",
     "text": [
      "{\"items\":[{\"id\":\"77334669\",\"premium\":false,\"name\":\"Аналитик данных / Data Analyst\",\"department\":null,\"has_test\":false,\"response_letter_required\":false,\"area\":{\"id\":\"1\",\"name\":\"Москва\",\"url\":\"https://a\n"
     ]
    }
   ],
   "source": [
    "print(stroka_site[:200]) "
   ]
  },
  {
   "attachments": {},
   "cell_type": "markdown",
   "metadata": {},
   "source": [
    "#### Список со значениями в базе данных"
   ]
  },
  {
   "cell_type": "code",
   "execution_count": 100,
   "metadata": {},
   "outputs": [],
   "source": [
    "key_vakancy = ('id','premium','name','department','has_test','response_letter_required','area','salary','type',\n",
    "      'address','response_url','sort_point_distance','published_at','created_at','archived','apply_alternate_url',\n",
    "      'insider_interview','url','adv_response_url','alternate_url','relations','employer','snippet','contacts',\n",
    "      'schedule','working_days','working_time_intervals','working_time_modes','accept_temporary','professional_roles',\n",
    "      'accept_incomplete_resumes','id')"
   ]
  },
  {
   "attachments": {},
   "cell_type": "markdown",
   "metadata": {},
   "source": [
    "#### Заносим данные в список со словарями"
   ]
  },
  {
   "cell_type": "code",
   "execution_count": 107,
   "metadata": {},
   "outputs": [],
   "source": [
    "end = 0\n",
    "start = 0\n",
    "table_vakancy = []\n",
    "\n",
    "for x in range (pp-1):\n",
    "    spisok_vakancy = {}\n",
    "    for i in key_vakancy:\n",
    "        start = stroka_site.find(i, end)\n",
    "        second = key_vakancy[key_vakancy.index(i)+1]\n",
    "        end = stroka_site.find(second,end)\n",
    "        spisok_vakancy[i] = stroka_site[start-1:end-2]\n",
    "\n",
    "    table_vakancy.append(spisok_vakancy)"
   ]
  },
  {
   "attachments": {},
   "cell_type": "markdown",
   "metadata": {},
   "source": [
    "##### Проверка"
   ]
  },
  {
   "cell_type": "code",
   "execution_count": 102,
   "metadata": {},
   "outputs": [],
   "source": [
    "#print(end)\n",
    "#print(start)\n",
    "#print(type(spisok_vakancy))\n",
    "#print(len(spisok_vakancy))\n",
    "#print(spisok_vakancy['name'])\n",
    "\n",
    "#print(type(table_vakancy))\n",
    "#print(len(table_vakancy))\n",
    "#print(table_vakancy[1]['name'])\n",
    "\n",
    "#print(table_vakancy[1])\n",
    "#print(table_vakancy[4])\n",
    "#print(pp)"
   ]
  },
  {
   "cell_type": "code",
   "execution_count": 108,
   "metadata": {},
   "outputs": [],
   "source": [
    "def change_column ():\n",
    "    for i in range(pp-1):\n",
    "        table_vakancy[i]['name'] = table_vakancy[i]['name'][7:]\n",
    "        if table_vakancy[i]['department'] == '\"department\":null':\n",
    "            table_vakancy[i]['department'] = ' '\n",
    "        else:\n",
    "            start = table_vakancy[i]['department'].find('name') + 7\n",
    "            end = table_vakancy[i]['department'].find('}') - 1\n",
    "            table_vakancy[i]['department'] = table_vakancy[i]['department'][start:end]\n",
    "        "
   ]
  },
  {
   "cell_type": "code",
   "execution_count": 109,
   "metadata": {},
   "outputs": [],
   "source": [
    "def change_width():\n",
    "    column_name = ['name', 'department']\n",
    "    long_name = []\n",
    "    for vacancy in column_name:\n",
    "        for i in range(pp-1):\n",
    "            long_name.append(len(table_vakancy[i][vacancy]))\n",
    "\n",
    "        max_name = max(long_name)\n",
    "\n",
    "        for i in range(pp-1):\n",
    "            sr_name = max_name - len(table_vakancy[i][vacancy])\n",
    "            table_vakancy[i][vacancy] = table_vakancy[i][vacancy] + (' '*sr_name)\n"
   ]
  },
  {
   "cell_type": "code",
   "execution_count": 110,
   "metadata": {},
   "outputs": [
    {
     "name": "stdout",
     "output_type": "stream",
     "text": [
      "\"Аналитик данных / Data Analyst\"   |||                                    ||| {\"from\":160000,\"to\":200000,\"cur ||| null\n",
      "\"Аналитик данных\"                  |||                                    ||| {\"from\":100000,\"to\":null,\"curre ||| {\"city\":\"Москва\",\"street\":\"Олонецкий проезд\",\"building\":\"4к2\",\"lat\":55.873163,\"lng\":37.66017,\"description\":null,\"raw\":\"Москва, Олонецкий проезд, 4к2\",\"metro\":{\"station_name\":\"Бабушкинская\",\"line_name\":\"Калужско-Рижская\",\"station_id\":\"6.13\",\"line_id\":\"6\",\"lat\":55.870641,\"lng\":37.664341},\"metro_stations\":[{\"station_name\":\"Бабушкинская\",\"line_name\":\"Калужско-Рижская\",\"station_id\":\"6.13\",\"line_id\":\"6\",\"lat\":55.870641,\"lng\":37.664341},{\"station_name\":\"Отрадное\",\"line_name\":\"Серпуховско-Тимирязевская\",\"station_id\":\"9.97\",\"line_id\":\"9\",\"lat\":55.864273,\"lng\":37.605066}],\"id\":\"25114\"}\n",
      "\"Аналитик данных\"                  |||                                    ||| null ||| {\"city\":\"Москва\",\"street\":\"2-я Хуторская улица\",\"building\":\"38А\",\"lat\":55.805078,\"lng\":37.568021,\"description\":null,\"raw\":\"Москва, 2-я Хуторская улица, 38А\",\"metro\":{\"station_name\":\"Дмитровская\",\"line_name\":\"Серпуховско-Тимирязевская\",\"station_id\":\"9.35\",\"line_id\":\"9\",\"lat\":55.808056,\"lng\":37.581734},\"metro_stations\":[{\"station_name\":\"Дмитровская\",\"line_name\":\"Серпуховско-Тимирязевская\",\"station_id\":\"9.35\",\"line_id\":\"9\",\"lat\":55.808056,\"lng\":37.581734}],\"id\":\"2158863\"}\n",
      "\"Аналитик\"                         |||                                    ||| {\"from\":80000,\"to\":120000,\"curr ||| null\n",
      "\"Аналитик данных (SQL/Excel)\"      |||                                    ||| null ||| {\"city\":\"Москва\",\"street\":\"улица Двинцев\",\"building\":\"12к1А\",\"lat\":55.796223,\"lng\":37.59984,\"description\":null,\"raw\":\"Москва, улица Двинцев, 12к1А\",\"metro\":{\"station_name\":\"Марьина Роща\",\"line_name\":\"Люблинско-Дмитровская\",\"station_id\":\"10.185\",\"line_id\":\"10\",\"lat\":55.793723,\"lng\":37.61618},\"metro_stations\":[{\"station_name\":\"Марьина Роща\",\"line_name\":\"Люблинско-Дмитровская\",\"station_id\":\"10.185\",\"line_id\":\"10\",\"lat\":55.793723,\"lng\":37.61618},{\"station_name\":\"Савёловская\",\"line_name\":\"Серпуховско-Тимирязевская\",\"station_id\":\"9.128\",\"line_id\":\"9\",\"lat\":55.794054,\"lng\":37.587163}],\"id\":\"6542913\"}\n",
      "\"Аналитик BI\"                      |||                                    ||| {\"from\":200000,\"to\":null,\"curre ||| {\"city\":\"Москва\",\"street\":\"переулок Огородная Слобода\",\"building\":\"5А\",\"lat\":55.765817,\"lng\":37.642222,\"description\":null,\"raw\":\"Москва, переулок Огородная Слобода, 5А\",\"metro\":{\"station_name\":\"Сретенский бульвар\",\"line_name\":\"Люблинско-Дмитровская\",\"station_id\":\"10.175\",\"line_id\":\"10\",\"lat\":55.766106,\"lng\":37.635688},\"metro_stations\":[{\"station_name\":\"Сретенский бульвар\",\"line_name\":\"Люблинско-Дмитровская\",\"station_id\":\"10.175\",\"line_id\":\"10\",\"lat\":55.766106,\"lng\":37.635688},{\"station_name\":\"Тургеневская\",\"line_name\":\"Калужско-Рижская\",\"station_id\":\"6.144\",\"line_id\":\"6\",\"lat\":55.765371,\"lng\":37.636732},{\"station_name\":\"Чистые пруды\",\"line_name\":\"Сокольническая\",\"station_id\":\"1.143\",\"line_id\":\"1\",\"lat\":55.76499,\"lng\":37.638293}],\"id\":\"11822530\"}\n",
      "\"Аналитик данных / Data Analyst\"   ||| Сбер. Экспертам и руководителям    ||| null ||| null\n",
      "\"Аналитик данных\"                  ||| Сбер. IT                           ||| null ||| {\"city\":\"Москва\",\"street\":\"Кутузовский проспект\",\"building\":\"32\",\"lat\":55.740421,\"lng\":37.532071,\"description\":null,\"raw\":\"Москва, Кутузовский проспект, 32\",\"metro\":{\"station_name\":\"Кутузовская\",\"line_name\":\"МЦК\",\"station_id\":\"95.536\",\"line_id\":\"95\",\"lat\":55.740833,\"lng\":37.533333},\"metro_stations\":[{\"station_name\":\"Кутузовская\",\"line_name\":\"МЦК\",\"station_id\":\"95.536\",\"line_id\":\"95\",\"lat\":55.740833,\"lng\":37.533333}],\"id\":\"823806\"}\n",
      "\"Аналитик Данных\"                  |||                                    ||| null ||| {\"city\":\"Москва\",\"street\":\"Нагорный проезд\",\"building\":\"6\",\"lat\":55.688116,\"lng\":37.615677,\"description\":null,\"raw\":\"Москва, Нагорный проезд, 6\",\"metro\":null,\"metro_stations\":[],\"id\":\"399767\"}\n",
      "\"Аналитик данных / Data Scientist\" |||                                    ||| {\"from\":150000,\"to\":null,\"curre ||| {\"city\":\"Москва\",\"street\":\"улица Арбат\",\"building\":\"10\",\"lat\":55.751381,\"lng\":37.596669,\"description\":null,\"raw\":\"Москва, улица Арбат, 10\",\"metro\":{\"station_name\":\"Арбатская\",\"line_name\":\"Арбатско-Покровская\",\"station_id\":\"3.5\",\"line_id\":\"3\",\"lat\":55.752312,\"lng\":37.60349},\"metro_stations\":[{\"station_name\":\"Арбатская\",\"line_name\":\"Арбатско-Покровская\",\"station_id\":\"3.5\",\"line_id\":\"3\",\"lat\":55.752312,\"lng\":37.60349}],\"id\":\"4652886\"}\n",
      "\"Аналитик\"                         |||                                    ||| {\"from\":160000,\"to\":null,\"curre ||| null\n",
      "\"Junior Analyst (Аналитик)\"        |||                                    ||| null ||| null\n",
      "\"Аналитик данных\"                  ||| билайн: ИТ, Data, Digital          ||| null ||| null\n",
      "\"Аналитик данных\"                  ||| X5 GROUP, Media                    ||| null ||| null\n",
      "\"Аналитик\"                         |||                                    ||| null ||| null\n",
      "\"Аналитик данных\"                  ||| билайн: ИТ, Data, Digital          ||| null ||| null\n",
      "\"Аналитик данных SQL (офис)\"       |||                                    ||| {\"from\":120000,\"to\":150000,\"cur ||| null\n",
      "\"Аналитик\"                         |||                                    ||| {\"from\":50000,\"to\":null,\"curren ||| null\n",
      "\"Аналитик СХ-данных\"               ||| ANCOR                              ||| {\"from\":null,\"to\":190000,\"curre ||| null\n"
     ]
    }
   ],
   "source": [
    "change_column ()\n",
    "change_width()\n",
    "\n",
    "for i in range(pp-1):\n",
    "    print(table_vakancy[i]['name'],\"|||\", table_vakancy[i]['department'],\"|||\", \n",
    "      table_vakancy[i]['salary'][9:40],\"|||\",table_vakancy[i]['address'][10:])"
   ]
  }
 ],
 "metadata": {
  "kernelspec": {
   "display_name": "venv",
   "language": "python",
   "name": "python3"
  },
  "language_info": {
   "codemirror_mode": {
    "name": "ipython",
    "version": 3
   },
   "file_extension": ".py",
   "mimetype": "text/x-python",
   "name": "python",
   "nbconvert_exporter": "python",
   "pygments_lexer": "ipython3",
   "version": "3.9.13"
  },
  "orig_nbformat": 4
 },
 "nbformat": 4,
 "nbformat_minor": 2
}
