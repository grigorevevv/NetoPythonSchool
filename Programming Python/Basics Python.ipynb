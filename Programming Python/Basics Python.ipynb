{
 "cells": [
  {
   "attachments": {},
   "cell_type": "markdown",
   "metadata": {},
   "source": [
    "### Задача №1"
   ]
  },
  {
   "attachments": {},
   "cell_type": "markdown",
   "metadata": {},
   "source": [
    "Квадрат и прямоугольник."
   ]
  },
  {
   "attachments": {},
   "cell_type": "markdown",
   "metadata": {},
   "source": [
    "Пользователь вводит длину и ширину фигуры.  \n",
    "Программа выводит их периметр и площадь.\n",
    "\n",
    "Пример:  \n",
    "Введите длину стороны квадрата: 3  \n",
    "\n",
    "Вывод:  \n",
    "Периметр: 12  \n",
    "Площадь: 9  \n",
    "\n",
    "Введите длину прямоугольника: 3  \n",
    "Введите ширину прямоугольника: 4  \n",
    "\n",
    "Вывод:  \n",
    "Периметр: 14  \n",
    "Площадь: 12  "
   ]
  },
  {
   "attachments": {},
   "cell_type": "markdown",
   "metadata": {},
   "source": [
    "Программа запрашивает у пользователя длину стороны квадрата и выводит его периметр и площадь. Сразу после этого пользователю предлагается ввести длину и ширину прямоугольника, для которого рассчитывается периметр и площадь. Обратите внимание, что программа должна работать корректно при любых введённых значениях длины и ширины фигуры."
   ]
  },
  {
   "cell_type": "code",
   "execution_count": 1,
   "metadata": {},
   "outputs": [
    {
     "name": "stdout",
     "output_type": "stream",
     "text": [
      "Периметр: 12.0\n",
      "Площадь: 9.0\n"
     ]
    }
   ],
   "source": [
    "side = float(input('Введите длину стороны квадрата: '))\n",
    "perimentr_sq = side * 4\n",
    "S_sq = side * side\n",
    "print('Периметр:', perimentr_sq)\n",
    "print('Площадь:', S_sq)"
   ]
  },
  {
   "cell_type": "code",
   "execution_count": 2,
   "metadata": {},
   "outputs": [
    {
     "name": "stdout",
     "output_type": "stream",
     "text": [
      "Периметр: 64.0\n",
      "Площадь: 32.0\n"
     ]
    }
   ],
   "source": [
    "length = float(input('Введите длину прямоугольника: '))\n",
    "width = float(input('Введите ширину прямоугольника: '))\n",
    "perimentr_rectangle = 2 * (length * width)\n",
    "S_rectangle = length * width\n",
    "print('Периметр:', perimentr_rectangle)\n",
    "print('Площадь:', S_rectangle)"
   ]
  },
  {
   "attachments": {},
   "cell_type": "markdown",
   "metadata": {},
   "source": [
    "### Задача №2"
   ]
  },
  {
   "attachments": {},
   "cell_type": "markdown",
   "metadata": {},
   "source": [
    "Нужно разработать приложение для финансового планирования.  \n",
    "Приложение учитывает, какой процент от заработной платы уходит на ипотеку и ежемесячные расходы."
   ]
  },
  {
   "attachments": {},
   "cell_type": "markdown",
   "metadata": {},
   "source": [
    "Для этого пользователю предлагается ввести следующие данные:  \n",
    "  \n",
    "1. Заработную плату в месяц.\n",
    "2. Какой процент(%) от зп уходит на ипотеку.  \n",
    "3. Какой процент(%) от зп уходит \"на жизнь\".  \n",
    "     \n",
    "Программа подсчитывает и выводит, сколько денег тратит пользователь на ипотеку и сколько он накопит за год (остаток от заработанной платы)."
   ]
  },
  {
   "attachments": {},
   "cell_type": "markdown",
   "metadata": {},
   "source": [
    "Пример:  \n",
    "Введите заработную плату в месяц: 100000  \n",
    "Введите, какой процент(%) уходит на ипотеку: 30  \n",
    "Введите, какой процент(%) уходит на жизнь: 50  \n",
    "\n",
    "Вывод:  \n",
    "На ипотеку было потрачено: 360000 рублей  \n",
    "Было накоплено: 240000 рублей"
   ]
  },
  {
   "cell_type": "code",
   "execution_count": 4,
   "metadata": {},
   "outputs": [
    {
     "name": "stdout",
     "output_type": "stream",
     "text": [
      "На ипотеку было потрачено: 360000.0\n",
      "Было накоплено: 240000.0\n"
     ]
    }
   ],
   "source": [
    "salary_month = float(input('Введите заработную плату в месяц: '))\n",
    "mortgage = float(input('Введите, какой процент(%) уходит на ипотеку: '))\n",
    "expenses = float(input('Введите, какой процент(%) уходит на жизнь: '))\n",
    "\n",
    "expenses_mortgage = ((salary_month * mortgage) / 100) * 12\n",
    "print('На ипотеку было потрачено:',expenses_mortgage)\n",
    "accumulated = ((salary_month * (100 - (expenses + mortgage))) / 100) * 12\n",
    "print('Было накоплено:',accumulated)"
   ]
  },
  {
   "attachments": {},
   "cell_type": "markdown",
   "metadata": {},
   "source": [
    "### Задача №3"
   ]
  },
  {
   "attachments": {},
   "cell_type": "markdown",
   "metadata": {},
   "source": [
    "Разделитель.  \n",
    " Пользователь вводит какой-нибудь символ. Нужно разделить первую задачу и вторую задачу строкой из этого символа. Длина строки должна быть суммой периметра квадрата и площади прямоугольника.   \n",
    " Пример:"
   ]
  },
  {
   "attachments": {},
   "cell_type": "markdown",
   "metadata": {},
   "source": [
    "\\#\n",
    "  \n",
    "Вывод:  \n",
    "######################"
   ]
  },
  {
   "cell_type": "code",
   "execution_count": 6,
   "metadata": {},
   "outputs": [
    {
     "name": "stdout",
     "output_type": "stream",
     "text": [
      "############################################\n"
     ]
    }
   ],
   "source": [
    "simvol = input('Введите, какой нибудь символ: ')\n",
    "\n",
    "print(simvol * (round(perimentr_sq + S_rectangle)))"
   ]
  }
 ],
 "metadata": {
  "kernelspec": {
   "display_name": "Python 3",
   "language": "python",
   "name": "python3"
  },
  "language_info": {
   "codemirror_mode": {
    "name": "ipython",
    "version": 3
   },
   "file_extension": ".py",
   "mimetype": "text/x-python",
   "name": "python",
   "nbconvert_exporter": "python",
   "pygments_lexer": "ipython3",
   "version": "3.9.13"
  },
  "orig_nbformat": 4
 },
 "nbformat": 4,
 "nbformat_minor": 2
}
