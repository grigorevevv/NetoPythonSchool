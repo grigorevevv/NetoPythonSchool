{
 "cells": [
  {
   "attachments": {},
   "cell_type": "markdown",
   "metadata": {},
   "source": [
    "### Задача №1"
   ]
  },
  {
   "attachments": {},
   "cell_type": "markdown",
   "metadata": {},
   "source": [
    "Ипотечный калькулятор В новом банке решили начать выдавать ипотеку. Появилась необходимость разработать для них ипотечный калькулятор. Нужно рассчитать финальную процентную ставку по ипотеке. От каких критериев зависит скидка на ипотеку:"
   ]
  },
  {
   "attachments": {},
   "cell_type": "markdown",
   "metadata": {},
   "source": [
    "1. Если клиент из Дальнего Востока(список регионов определить самостоятельно), то базовая ставка становится 2%.  \n",
    "2. Если количество детей больше 3, то базовая ставка уменьшается на 1%.  \n",
    "3. Если у клиента зарплатный проект в этом банке, то базовая ставка уменьшается на 0.5%.  \n",
    "4. Если в этом же банке будет оформлена страхование, то базовая ставка уменьшается на 1.5% Базовую процентную ставку выбрать самостоятельно. Если клиент оформляет ипотеку по дальневосточной программе, то остальные скидки не применяются."
   ]
  },
  {
   "cell_type": "code",
   "execution_count": 2,
   "metadata": {},
   "outputs": [
    {
     "name": "stdout",
     "output_type": "stream",
     "text": [
      "ваша процентная ставка по ипотеке 7.5%\n"
     ]
    }
   ],
   "source": [
    "region_our = input('Введите Ваш регион регистрации: ')\n",
    "\n",
    "Far_East = ['Республика Саха (Якутия)', 'Республика Бурятия','Забайкальский край', 'Камчатский край', \n",
    "            'Приморский край', 'Хабаровский край', 'Амурская область']\n",
    "\n",
    "interest_rate = 8.0\n",
    "\n",
    "if region_our in Far_East:\n",
    "  interest_rate = 2\n",
    "else:\n",
    "  children = int(input('Сколько у вас детей?'))\n",
    "  client = input('Являитесь ли вы нашим зарплатным клиентом?')\n",
    "  if children > 3:\n",
    "    interest_rate -= 1\n",
    "  if client == 'да':\n",
    "    interest_rate -= 0.5\n",
    "    \n",
    "print(f'ваша процентная ставка по ипотеке {interest_rate}%') "
   ]
  },
  {
   "attachments": {},
   "cell_type": "markdown",
   "metadata": {},
   "source": [
    "### Задача №2"
   ]
  },
  {
   "attachments": {},
   "cell_type": "markdown",
   "metadata": {},
   "source": [
    "Разработать приложение для определения знака зодиака по дате рождения.  \n",
    "Пример:"
   ]
  },
  {
   "attachments": {},
   "cell_type": "markdown",
   "metadata": {},
   "source": [
    "Введите месяц: март  \n",
    "Введите число: 6  \n",
    "  \n",
    "Вывод:  \n",
    "Рыбы"
   ]
  },
  {
   "cell_type": "code",
   "execution_count": 3,
   "metadata": {},
   "outputs": [
    {
     "name": "stdout",
     "output_type": "stream",
     "text": [
      "Весы\n"
     ]
    }
   ],
   "source": [
    "month = input('Введите месяц: ')\n",
    "day = int(input('Введите число: '))\n",
    "\n",
    "if (month == 'Сентябрь' and day >= 23) or \\\n",
    "(month == 'Октябрь' and day <= 23):\n",
    "  print('Весы')\n",
    "elif (month == 'Октябрь' and day >= 24) or \\\n",
    "(month == 'Ноябрь' and day <= 21):\n",
    "  print('Скорпион')\n",
    "elif (month == 'Ноябрь' and day >= 22) or \\\n",
    "(month == 'Декабрь' and day <= 21):\n",
    "  print('Стрелец')\n",
    "elif (month == 'Декабрь' and day >= 22) or \\\n",
    "(month == 'Январь' and day <= 19):\n",
    "  print('Козерог')\n",
    "elif (month == 'Январь' and day >= 20) or \\\n",
    "(month == 'Февраль' and day <= 18):\n",
    "  print('Водолей')\n",
    "elif (month == 'Февраль' and day >= 19) or \\\n",
    "(month == 'Март' and day <= 20):\n",
    "  print('Рыбы')\n",
    "elif (month == 'Март' and day >= 21) or \\\n",
    "(month == 'Апрель' and day <= 19):\n",
    "  print('Овен')\n",
    "elif (month == 'Апрель' and day >= 20) or \\\n",
    "(month == 'Май' and day <= 20):\n",
    "  print('Телец')\n",
    "elif (month == 'Май' and day >= 21) or \\\n",
    "(month == 'Июнь' and day <= 20):\n",
    "  print('Близнецы')\n",
    "elif (month == 'Июнь' and day >= 21) or \\\n",
    "(month == 'Июль' and day <= 22):\n",
    "  print('Рак')\n",
    "elif (month == 'Июль' and day >= 23) or \\\n",
    "(month == 'Август' and day <= 22):\n",
    "  print('Лев')\n",
    "elif (month == 'Август' and day >= 23) or \\\n",
    "(month == 'Сентябрь' and day <= 22):\n",
    "  print('Лев')\n",
    "else:\n",
    "  print('Введите правильно дату рождения')"
   ]
  },
  {
   "cell_type": "code",
   "execution_count": 6,
   "metadata": {},
   "outputs": [
    {
     "name": "stdout",
     "output_type": "stream",
     "text": [
      "Телец\n"
     ]
    }
   ],
   "source": [
    "signs = {\"март\": (21, \"Рыбы\", \"Овен\"), \"апрель\": (21, \"Овен\", \"Телец\"), \n",
    "         \"май\": (22, \"Телец\", \"Близнецы\"), \"июнь\": (22, \"Близнецы\", \"Рак\"),\n",
    "         \"июль\": (23, \"Рак\", \"Лев\"), \"август\": (24, \"Лев\", \"Дева\"),\n",
    "        \"сентябрь\": (24, \"Дева\", \"Весы\"), \"октябрь\": (24, \"Весы\", \"Скорпион\"),\n",
    "        \"ноябрь\": (23, \"Скорпион\", \"Стрелец\"), \"декабрь\": (23, \"Стрелец\", \"Козерог\"),\n",
    "        \"январь\": (21, \"Козерог\", \"Водолей\"), \"февраль\": (20, \"Водолей\", \"Рыбы\")}\n",
    "\n",
    "day, month = int(input(\"Введите день\")), input(\"Введите месяц\")\n",
    "print(signs[month][2]) if (day >= signs[month][0]) else print(signs[month][1])"
   ]
  }
 ],
 "metadata": {
  "kernelspec": {
   "display_name": "Python 3",
   "language": "python",
   "name": "python3"
  },
  "language_info": {
   "codemirror_mode": {
    "name": "ipython",
    "version": 3
   },
   "file_extension": ".py",
   "mimetype": "text/x-python",
   "name": "python",
   "nbconvert_exporter": "python",
   "pygments_lexer": "ipython3",
   "version": "3.9.13"
  },
  "orig_nbformat": 4
 },
 "nbformat": 4,
 "nbformat_minor": 2
}
