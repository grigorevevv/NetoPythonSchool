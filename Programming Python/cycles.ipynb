{
 "cells": [
  {
   "attachments": {},
   "cell_type": "markdown",
   "metadata": {},
   "source": [
    "### Задача №1"
   ]
  },
  {
   "attachments": {},
   "cell_type": "markdown",
   "metadata": {},
   "source": [
    "Мы делаем MVP dating-сервиса, и у нас есть список парней и девушек — их число может варьироваться:  \n",
    "boys = ['Peter', 'Alex', 'John', 'Arthur', 'Richard']  \n",
    "girls = ['Kate', 'Liza', 'Kira', 'Emma', 'Trisha']"
   ]
  },
  {
   "attachments": {},
   "cell_type": "markdown",
   "metadata": {},
   "source": [
    "Выдвигаем гипотезу: лучшие рекомендации мы получим, если просто отсортируем имена по алфавиту и познакомим людей с одинаковыми индексами после сортировки. «Познакомить» пары нам поможет функция zip. В цикле распакуем zip-объект и выведем информацию в виде:\n",
    "\n",
    "Идеальные пары:  \n",
    "Alex и Emma  \n",
    "Arthur и Kate  \n",
    "John и Kira  \n",
    "Peter и Liza  \n",
    "Richard и Trisha  "
   ]
  },
  {
   "attachments": {},
   "cell_type": "markdown",
   "metadata": {},
   "source": [
    "**Внимание. Если количество людей в списках будет не совпадать, то мы никого знакомить не будем и выведем пользователю предупреждение, что кто-то может остаться без пары.**"
   ]
  },
  {
   "cell_type": "code",
   "execution_count": 1,
   "metadata": {},
   "outputs": [
    {
     "name": "stdout",
     "output_type": "stream",
     "text": [
      "Идеальные пары: \n",
      "Alex и Emma\n",
      "Arthur и Kate\n",
      "John и Kira\n",
      "Peter и Liza\n",
      "Richard и Trisha\n"
     ]
    }
   ],
   "source": [
    "boys = ['Peter', 'Alex', 'John', 'Arthur', 'Richard']\n",
    "girls = ['Kate', 'Liza', 'Kira', 'Emma', 'Trisha']\n",
    "\n",
    "boys.sort()\n",
    "girls.sort()\n",
    "\n",
    "if len(boys) ==  len(girls):\n",
    "  print('Идеальные пары: ')\n",
    "  for i in range(0,len(boys)):\n",
    "    print(boys[i], 'и', girls[i])\n",
    "else:\n",
    "  print('Предупреждение! Кто-то может остаться без пары!')"
   ]
  },
  {
   "attachments": {},
   "cell_type": "markdown",
   "metadata": {},
   "source": [
    "### Задача №2"
   ]
  },
  {
   "attachments": {},
   "cell_type": "markdown",
   "metadata": {},
   "source": [
    "Есть структура данных cook_book, в которой хранится информация об ингредиентах блюд и их количестве   \n",
    "в расчёте на одну порцию:  \n",
    "\n",
    "и переменная, в которой хранится количество людей, на которых нужно приготовить эти блюда:  \n",
    "\n",
    "Нужно вывести пользователю список покупок необходимого количества ингредиентов для приготовления блюд на определённое число персон  \n",
    "**Внимание. Реализация не должна зависеть от количества блюд, их названий и количества ингредиентов в них.**"
   ]
  },
  {
   "cell_type": "code",
   "execution_count": 25,
   "metadata": {},
   "outputs": [],
   "source": [
    "cook_book = [\n",
    "  ['салат',\n",
    "      [\n",
    "        ['картофель', 100, 'гр.'],\n",
    "        ['морковь', 50, 'гр.'],\n",
    "        ['огурцы', 50, 'гр.'],\n",
    "        ['горошек', 30, 'гр.'],\n",
    "        ['майонез', 70, 'мл.'],\n",
    "      ]\n",
    "  ],\n",
    "  ['пицца',  \n",
    "      [\n",
    "        ['сыр', 50, 'гр.'],\n",
    "        ['томаты', 50, 'гр.'],\n",
    "        ['тесто', 100, 'гр.'],\n",
    "        ['бекон', 30, 'гр.'],\n",
    "        ['колбаса', 30, 'гр.'],\n",
    "        ['грибы', 20, 'гр.'],\n",
    "      ],\n",
    "  ],\n",
    "  ['фруктовый десерт',\n",
    "      [\n",
    "        ['хурма', 60, 'гр.'],\n",
    "        ['киви', 60, 'гр.'],\n",
    "        ['творог', 60, 'гр.'],\n",
    "        ['сахар', 10, 'гр.'],\n",
    "        ['мед', 50, 'мл.'],  \n",
    "      ]\n",
    "  ]\n",
    "]\n",
    "\n",
    "person = 5"
   ]
  },
  {
   "cell_type": "code",
   "execution_count": 26,
   "metadata": {},
   "outputs": [
    {
     "name": "stdout",
     "output_type": "stream",
     "text": [
      "Салат:\n",
      "картофель, 500гр.\n",
      "морковь, 250гр.\n",
      "огурцы, 250гр.\n",
      "горошек, 150гр.\n",
      "майонез, 350мл.\n",
      "\n",
      "Пицца:\n",
      "сыр, 250гр.\n",
      "томаты, 250гр.\n",
      "тесто, 500гр.\n",
      "бекон, 150гр.\n",
      "колбаса, 150гр.\n",
      "грибы, 100гр.\n",
      "\n",
      "Фруктовый десерт:\n",
      "хурма, 300гр.\n",
      "киви, 300гр.\n",
      "творог, 300гр.\n",
      "сахар, 50гр.\n",
      "мед, 250мл.\n",
      "\n"
     ]
    }
   ],
   "source": [
    "for dish, ingredient in cook_book:\n",
    "    print(f'{dish.capitalize()}:')\n",
    "    for product, weight, measure in ingredient:\n",
    "        print(f'{product}, {weight * person}{measure}')\n",
    "    print()"
   ]
  }
 ],
 "metadata": {
  "kernelspec": {
   "display_name": "Python 3",
   "language": "python",
   "name": "python3"
  },
  "language_info": {
   "codemirror_mode": {
    "name": "ipython",
    "version": 3
   },
   "file_extension": ".py",
   "mimetype": "text/x-python",
   "name": "python",
   "nbconvert_exporter": "python",
   "pygments_lexer": "ipython3",
   "version": "3.9.13"
  },
  "orig_nbformat": 4
 },
 "nbformat": 4,
 "nbformat_minor": 2
}
