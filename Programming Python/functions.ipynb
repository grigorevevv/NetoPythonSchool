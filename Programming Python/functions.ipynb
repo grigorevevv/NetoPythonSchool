{
 "cells": [
  {
   "attachments": {},
   "cell_type": "markdown",
   "metadata": {},
   "source": [
    "Необходимо реализовать пользовательские команды, которые будут выполнять следующие функции:\n",
    "\n",
    "p – people – команда, которая спросит номер документа и выведет имя человека, которому он принадлежит;  \n",
    "s – shelf – команда, которая спросит номер документа и выведет номер полки, на которой он находится;  \n",
    "Правильно обработайте ситуации, когда пользователь будет вводить несуществующий документ.  \n",
    "l– list – команда, которая выведет список всех документов в формате passport \"2207 876234\" \"Василий Гупкин\";  \n",
    "a – add – команда, которая добавит новый документ в каталог и в перечень полок, спросив его номер, тип,   \n",
    "имя владельца и номер полки, на котором он будет храниться.Корректно обработайте ситуацию, когда   \n",
    "пользователь будет пытаться добавить документ на несуществующую полку.\n",
    "d – delete – команда, которая спросит номер документа и удалит полностью документ из каталога и  \n",
    "его номер из перечня полок. Предусмотрите сценарий, когда пользователь вводит несуществующий документ;  \n",
    "m – move – команда, которая спросит номер документа и целевую полку и переместит его с текущей   \n",
    "полки на целевую. Корректно обработайте кейсы, когда пользователь пытается переместить  \n",
    "несуществующий документ или переместить документ на несуществующую полку;  \n",
    "as – add shelf – команда, которая спросит номер новой полки и добавит ее в перечень.  \n",
    "Предусмотрите случай, когда пользователь добавляет полку, которая уже существует.;"
   ]
  },
  {
   "attachments": {},
   "cell_type": "markdown",
   "metadata": {},
   "source": [
    "#### Дано:"
   ]
  },
  {
   "cell_type": "code",
   "execution_count": 1,
   "metadata": {},
   "outputs": [],
   "source": [
    "documents = [\n",
    "    {\"type\": \"passport\", \"number\": \"2207 876234\", \"name\": \"Василий Гупкин\"},\n",
    "    {\"type\": \"invoice\", \"number\": \"11-2\", \"name\": \"Геннадий Покемонов\"},\n",
    "    {\"type\": \"insurance\", \"number\": \"10006\", \"name\": \"Аристарх Павлов\"}\n",
    "]\n",
    "\n",
    "directories = {\n",
    "    '1': ['2207 876234', '11-2'],\n",
    "    '2': ['10006'],\n",
    "    '3': []\n",
    "}"
   ]
  },
  {
   "attachments": {},
   "cell_type": "markdown",
   "metadata": {},
   "source": [
    "функция people"
   ]
  },
  {
   "cell_type": "code",
   "execution_count": 4,
   "metadata": {},
   "outputs": [
    {
     "data": {
      "text/plain": [
       "'Геннадий Покемонов'"
      ]
     },
     "execution_count": 4,
     "metadata": {},
     "output_type": "execute_result"
    }
   ],
   "source": [
    "def number_people(document, direct):\n",
    "    number = input('Введите номер документа: ')\n",
    "    for stroka in document:\n",
    "        if stroka['number'] == number:\n",
    "            return stroka['name']\n",
    "    return 'Данного номера нет в базе данных'\n",
    "\n",
    "number_people(documents,directories)"
   ]
  },
  {
   "attachments": {},
   "cell_type": "markdown",
   "metadata": {},
   "source": [
    "функция shelf"
   ]
  },
  {
   "cell_type": "code",
   "execution_count": 6,
   "metadata": {},
   "outputs": [
    {
     "data": {
      "text/plain": [
       "'Данного номера нет на полках'"
      ]
     },
     "execution_count": 6,
     "metadata": {},
     "output_type": "execute_result"
    }
   ],
   "source": [
    "def number_shelf(document, direct):\n",
    "    number = input('Введите номер документа: ')\n",
    "    for shelf, numbers in direct.items():\n",
    "        if number in numbers:\n",
    "            return (f\"Номер полки {shelf}\")\n",
    "    return 'Данного номера нет на полках'\n",
    "\n",
    "\n",
    "number_shelf(documents, directories)"
   ]
  },
  {
   "attachments": {},
   "cell_type": "markdown",
   "metadata": {},
   "source": [
    "функция list"
   ]
  },
  {
   "cell_type": "code",
   "execution_count": 11,
   "metadata": {},
   "outputs": [
    {
     "data": {
      "text/plain": [
       "['passport \"2207 876234\" \"Василий Гупкин\"',\n",
       " 'invoice \"11-2\" \"Геннадий Покемонов\"',\n",
       " 'insurance \"10006\" \"Аристарх Павлов\"',\n",
       " 'pas \"777\" \"jok\"']"
      ]
     },
     "execution_count": 11,
     "metadata": {},
     "output_type": "execute_result"
    }
   ],
   "source": [
    "def list_documents(document, direct):\n",
    "    all_documents = []\n",
    "    for stroka in document:\n",
    "        all_documents.append(f\"{stroka['type']} \\\"{stroka['number']}\\\" \"\n",
    "                             f\"\\\"{stroka['name']}\\\"\")\n",
    "\n",
    "    return all_documents\n",
    "\n",
    "list_documents(documents, directories)\n"
   ]
  },
  {
   "attachments": {},
   "cell_type": "markdown",
   "metadata": {},
   "source": [
    "функция add"
   ]
  },
  {
   "cell_type": "code",
   "execution_count": 10,
   "metadata": {},
   "outputs": [
    {
     "name": "stdout",
     "output_type": "stream",
     "text": [
      "данные добавлены в базу\n"
     ]
    }
   ],
   "source": [
    "def add_docement(document, direct):\n",
    "    type_add = input('Введите тип документа: ')\n",
    "    number_add = input('Введите номер документа: ')\n",
    "    name_add = input('Введите имя владельца: ')\n",
    "    shelf_add = input('Введите номер полки на которой находится документ: ')\n",
    "\n",
    "    shelf_numbers = []\n",
    "    for key, val in direct.items():\n",
    "        shelf_numbers.append(key)\n",
    "\n",
    "    if shelf_add in shelf_numbers:\n",
    "        list = direct[shelf_add]\n",
    "        list.append(number_add)\n",
    "        direct[shelf_add] = list\n",
    "        document.append({\"type\": type_add, \"number\": number_add, \"name\": name_add})\n",
    "        return 'данные добавлены в базу'\n",
    "    else:\n",
    "        return 'Такой полки не существует!'\n",
    "\n",
    "add_docement(documents, directories)\n"
   ]
  },
  {
   "attachments": {},
   "cell_type": "markdown",
   "metadata": {},
   "source": [
    "функция delete"
   ]
  },
  {
   "cell_type": "code",
   "execution_count": 14,
   "metadata": {},
   "outputs": [
    {
     "name": "stdout",
     "output_type": "stream",
     "text": [
      "Такого номера не существует в базе\n"
     ]
    }
   ],
   "source": [
    "def delete_document(document, direct):\n",
    "    number_del = input('Введите номер документа: ')\n",
    "\n",
    "    for delete_doc in document:\n",
    "        if delete_doc['number'] == number_del:\n",
    "            document.remove(delete_doc)\n",
    "            rezult = 'Документ удален'\n",
    "    else:\n",
    "        rezult = 'Такого номера не существует в базе'\n",
    "\n",
    "    for key, val in direct.items():\n",
    "        if number_del in val:\n",
    "            list_number = val\n",
    "            del list_number[list_number.index(number_del)]\n",
    "            direct[key] = list_number\n",
    "            \n",
    "    return rezult\n",
    "\n",
    "\n",
    "delete_document(documents, directories)"
   ]
  },
  {
   "attachments": {},
   "cell_type": "markdown",
   "metadata": {},
   "source": [
    "функция move"
   ]
  },
  {
   "cell_type": "code",
   "execution_count": 16,
   "metadata": {},
   "outputs": [
    {
     "name": "stdout",
     "output_type": "stream",
     "text": [
      "Документ 11-2 перенесен на полку 3\n"
     ]
    }
   ],
   "source": [
    "def move_document(document, direct):\n",
    "    move_number = input('Введите номер документа: ')\n",
    "    move_shelf = input('Введите номер полки для перемещения: ')\n",
    "    counter = 0\n",
    "    for shelf, val in direct.items():\n",
    "        if move_shelf == shelf:\n",
    "            counter += 2\n",
    "        if move_number in val:\n",
    "            counter += 1\n",
    "\n",
    "    if counter == 3:\n",
    "        for shelf, val in direct.items():\n",
    "            if move_number in val:\n",
    "                new_number = val.pop(val.index(move_number))\n",
    "                direct[shelf] = val\n",
    "\n",
    "        for shelf, val in direct.items():\n",
    "            if shelf == move_shelf:\n",
    "                val.append(new_number)\n",
    "        print(f'Документ {new_number} перенесен на полку {move_shelf}')\n",
    "    elif counter == 2:\n",
    "        print('Введенный номер дкумента не существует!')\n",
    "    elif counter == 1:\n",
    "        print('Такой полки нету!')\n",
    "    else:\n",
    "        print('Уточните данные. Введенных данных нет!')\n",
    "\n",
    "\n",
    "move_document(documents, directories)"
   ]
  },
  {
   "attachments": {},
   "cell_type": "markdown",
   "metadata": {},
   "source": [
    "функция add shelf"
   ]
  },
  {
   "cell_type": "code",
   "execution_count": 18,
   "metadata": {},
   "outputs": [
    {
     "name": "stdout",
     "output_type": "stream",
     "text": [
      "Внесена новая полка номер 7\n"
     ]
    }
   ],
   "source": [
    "def add_shelf(document, direct):\n",
    "    new_shelf = input('Введите номер новой полки: ')\n",
    "    for shelf, val in direct.items():\n",
    "        if new_shelf == shelf:\n",
    "            print('Такая полка уже есть')\n",
    "            break\n",
    "    else:\n",
    "        direct[new_shelf] = []\n",
    "        print(f'Внесена новая полка номер {new_shelf}')\n",
    "\n",
    "\n",
    "add_shelf(documents, directories)"
   ]
  },
  {
   "attachments": {},
   "cell_type": "markdown",
   "metadata": {},
   "source": [
    "Итоговая функция "
   ]
  },
  {
   "cell_type": "code",
   "execution_count": 19,
   "metadata": {},
   "outputs": [
    {
     "name": "stdout",
     "output_type": "stream",
     "text": [
      "The End\n"
     ]
    }
   ],
   "source": [
    "def main(document, direct):\n",
    "    while True:\n",
    "        user_command = input('Введите команду: ')\n",
    "        if user_command == 'p':\n",
    "            number_people(document, direct)\n",
    "        elif user_command == 's':\n",
    "            number_shelf(document, direct)\n",
    "        elif user_command == 'l':\n",
    "            list_documents(document, direct)\n",
    "        elif user_command == 'a':\n",
    "            add_docement(document, direct)\n",
    "        elif user_command == 'd':\n",
    "            delete_document(document, direct)\n",
    "        elif user_command == 'm':\n",
    "            move_document(document, direct)\n",
    "        elif user_command == 'as':\n",
    "            add_shelf(document, direct)\n",
    "        elif user_command == 'q':\n",
    "            print('The End')\n",
    "            break\n",
    "        else:\n",
    "            print('Такой команды не существует')\n",
    "\n",
    "\n",
    "main(documents, directories)\n",
    "\n"
   ]
  },
  {
   "attachments": {},
   "cell_type": "markdown",
   "metadata": {},
   "source": [
    "Итоговая функция v2.0"
   ]
  },
  {
   "cell_type": "code",
   "execution_count": 20,
   "metadata": {},
   "outputs": [
    {
     "name": "stdout",
     "output_type": "stream",
     "text": [
      "Геннадий Покемонов\n",
      "['passport \"2207 876234\" \"Василий Гупкин\"', 'invoice \"11-2\" \"Геннадий Покемонов\"', 'insurance \"10006\" \"Аристарх Павлов\"']\n",
      "Данного номера нет на полках\n",
      "Номер полки 3\n",
      "данные добавлены в базу\n",
      "None\n",
      "['passport \"2207 876234\" \"Василий Гупкин\"', 'invoice \"11-2\" \"Геннадий Покемонов\"', 'insurance \"10006\" \"Аристарх Павлов\"', 'pas \"777\" \"pol\"']\n",
      "Документ 777 перенесен на полку 7\n",
      "None\n"
     ]
    }
   ],
   "source": [
    "dict_fun = {'p':number_people,'s':number_shelf,'l':list_documents, \n",
    "            'a':add_docement,'d':delete_document,'m':move_document, \n",
    "            'as':add_shelf}\n",
    "\n",
    "def main_2 (document, direct):\n",
    "    while True:\n",
    "        user_command = input('Введите команду: ')\n",
    "        if user_command == 'q':\n",
    "            break\n",
    "        else:\n",
    "            print(dict_fun[user_command](document, direct))\n",
    "\n",
    "\n",
    "main_2(documents, directories)"
   ]
  }
 ],
 "metadata": {
  "kernelspec": {
   "display_name": "Python 3",
   "language": "python",
   "name": "python3"
  },
  "language_info": {
   "codemirror_mode": {
    "name": "ipython",
    "version": 3
   },
   "file_extension": ".py",
   "mimetype": "text/x-python",
   "name": "python",
   "nbconvert_exporter": "python",
   "pygments_lexer": "ipython3",
   "version": "3.9.13"
  },
  "orig_nbformat": 4
 },
 "nbformat": 4,
 "nbformat_minor": 2
}
