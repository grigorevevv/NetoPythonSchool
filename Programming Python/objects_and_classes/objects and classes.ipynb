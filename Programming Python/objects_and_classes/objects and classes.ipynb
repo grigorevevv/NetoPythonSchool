{
 "cells": [
  {
   "attachments": {},
   "cell_type": "markdown",
   "metadata": {},
   "source": [
    "### Задание № 1. Наследование"
   ]
  },
  {
   "attachments": {},
   "cell_type": "markdown",
   "metadata": {},
   "source": [
    "Исходя из квиза к предыдущему занятию, у нас уже есть класс преподавателей и класс студентов (вы можете взять этот код за основу или написать свой). Студентов пока оставим без изменения, а вот преподаватели бывают разные, поэтому теперь класс Mentor должен стать родительским классом, а от него нужно реализовать наследование классов Lecturer (лекторы) и Reviewer (эксперты, проверяющие домашние задания). Очевидно, имя, фамилия и список закрепленных курсов логично реализовать на уровне родительского класса. А чем же будут специфичны дочерние классы? Об этом в следующих заданиях."
   ]
  },
  {
   "cell_type": "code",
   "execution_count": 6,
   "metadata": {},
   "outputs": [
    {
     "name": "stdout",
     "output_type": "stream",
     "text": [
      "Don\n",
      "Smith\n",
      "['Python']\n"
     ]
    }
   ],
   "source": [
    "class Student:\n",
    "    def __init__(self, name, surname, gender):\n",
    "        self.name = name\n",
    "        self.surname = surname\n",
    "        self.gender = gender\n",
    "        self.finished_courses = []\n",
    "        self.courses_in_progress = []\n",
    "        self.grades = {}\n",
    "        \n",
    "class Mentor:\n",
    "    def __init__(self, name, surname):\n",
    "        self.name = name\n",
    "        self.surname = surname\n",
    "        self.courses_attached = []\n",
    "\n",
    "        \n",
    "    def rate_hw(self, student, course, grade):\n",
    "        if isinstance(student, Student) and course in self.courses_attached and course in student.courses_in_progress:\n",
    "            if course in student.grades:\n",
    "                student.grades[course] += [grade]\n",
    "            else:\n",
    "                student.grades[course] = [grade]\n",
    "        else:\n",
    "            return 'Ошибка'\n",
    "        \n",
    "        \n",
    "class Lecturer (Mentor):\n",
    "    pass\n",
    "\n",
    "class Reviewer (Mentor):\n",
    "    pass\n",
    " \n"
   ]
  },
  {
   "attachments": {},
   "cell_type": "markdown",
   "metadata": {},
   "source": [
    "### Задание № 2. Атрибуты и взаимодействие классов."
   ]
  },
  {
   "attachments": {},
   "cell_type": "markdown",
   "metadata": {},
   "source": [
    "В квизе к предыдущей лекции мы реализовали возможность выставлять студентам оценки за домашние задания. Теперь это могут делать только Reviewer (реализуйте такой метод)! А что могут делать лекторы? Получать оценки за лекции от студентов :) Реализуйте метод выставления оценок лекторам у класса Student (оценки по 10-балльной шкале, хранятся в атрибуте-словаре у Lecturer, в котором ключи – названия курсов, а значения – списки оценок). Лектор при этом должен быть закреплен за тем курсом, на который записан студент."
   ]
  },
  {
   "cell_type": "code",
   "execution_count": 6,
   "metadata": {},
   "outputs": [
    {
     "name": "stdout",
     "output_type": "stream",
     "text": [
      "Leo\n",
      "Smith\n",
      "{}\n",
      "['Python', 'GIT']\n",
      "{'Python': [7, 10]}\n",
      "{'Python': [10, 10, 10]}\n"
     ]
    }
   ],
   "source": [
    "class Student:\n",
    "    def __init__(self, name, surname, gender):\n",
    "        self.name = name\n",
    "        self.surname = surname\n",
    "        self.gender = gender\n",
    "        self.finished_courses = []\n",
    "        self.courses_in_progress = []\n",
    "        self.grades = {}\n",
    "\n",
    "    def grading_lecture(self,lectur, course,grade):\n",
    "        if isinstance (lectur, Lecturer) and course in self.courses_in_progress and course in lectur.courses_attached:\n",
    "            if course in lectur.grades:\n",
    "                lectur.grades[course] += [grade]\n",
    "            else:\n",
    "                lectur.grades[course] = [grade]\n",
    "        else:\n",
    "            return 'Ошибка'\n",
    "\n",
    "\n",
    "class Mentor:\n",
    "    def __init__(self, name, surname):\n",
    "        self.name = name\n",
    "        self.surname = surname\n",
    "        self.courses_attached = []   \n",
    "          \n",
    "        \n",
    "class Lecturer (Mentor):\n",
    "    def __init__(self, name, surname):\n",
    "        super().__init__(name,surname)\n",
    "        self.grades = {}\n",
    "\n",
    "\n",
    "class Reviewer (Mentor):\n",
    "    pass\n",
    "\n",
    "    def rate_hw(self, student, course, grade):\n",
    "        if isinstance(student, Student) and course in self.courses_attached and course in student.courses_in_progress:\n",
    "            if course in student.grades:\n",
    "                student.grades[course] += [grade]\n",
    "            else:\n",
    "                student.grades[course] = [grade]\n",
    "        else:\n",
    "            return 'Ошибка'\n",
    "        \n",
    "\n",
    "\n",
    "best_student = Student('Ruoy', 'Eman', 'your_gender')\n",
    "best_student.courses_in_progress += ['Python']\n",
    " \n",
    "reviewer_gates = Reviewer('Bill', 'Gates')\n",
    "reviewer_gates.courses_attached += ['Python']\n",
    "\n",
    "lector_smith = Lecturer('Leo','Smith')\n",
    "lector_smith.courses_attached += ['Python']\n",
    "lector_smith.courses_attached += ['GIT']\n",
    " \n",
    "\n",
    "best_student.grading_lecture(lector_smith,'Python',7)\n",
    "best_student.grading_lecture(lector_smith,'GIT',9)\n",
    "best_student.grading_lecture(lector_smith,'Python',10)\n",
    "\n",
    "print(lector_smith.grades)\n",
    "\n",
    "\n",
    "\n",
    "reviewer_gates.rate_hw(best_student, 'Python', 10)\n",
    "reviewer_gates.rate_hw(best_student, 'Python', 10)\n",
    "reviewer_gates.rate_hw(best_student, 'Python', 10)\n",
    " \n",
    "\n",
    "print(best_student.grades)\n",
    " "
   ]
  },
  {
   "attachments": {},
   "cell_type": "markdown",
   "metadata": {},
   "source": [
    "### Задание № 3. Полиморфизм и магические методы"
   ]
  },
  {
   "attachments": {},
   "cell_type": "markdown",
   "metadata": {},
   "source": [
    "Перегрузите магический метод __str__ у всех классов. \n",
    "   \n",
    "У проверяющих он должен выводить информацию в следующем виде:  \n",
    "print(some_reviewer)  \n",
    "Имя: Some  \n",
    "Фамилия: Buddy\n",
    "      \n",
    "У лекторов:  \n",
    "print(some_lecturer)  \n",
    "Имя: Some  \n",
    "Фамилия: Buddy  \n",
    "Средняя оценка за лекции: 9.9  \n",
    "  \n",
    "А у студентов так:  \n",
    "print(some_student)  \n",
    "Имя: Ruoy  \n",
    "Фамилия: Eman  \n",
    "Средняя оценка за домашние задания: 9.9  \n",
    "Курсы в процессе изучения: Python, Git  \n",
    "Завершенные курсы: Введение в программирование  "
   ]
  },
  {
   "attachments": {},
   "cell_type": "markdown",
   "metadata": {},
   "source": [
    "Реализуйте возможность сравнивать (через операторы сравнения) между собой лекторов по средней оценке за лекции и студентов по средней оценке за домашние задания."
   ]
  },
  {
   "cell_type": "code",
   "execution_count": 20,
   "metadata": {},
   "outputs": [
    {
     "name": "stdout",
     "output_type": "stream",
     "text": [
      "Имя: Bill \n",
      "Фамилия: Gates\n"
     ]
    }
   ],
   "source": [
    "class Student:\n",
    "    def __init__(self, name, surname, gender):\n",
    "        self.name = name\n",
    "        self.surname = surname\n",
    "        self.gender = gender\n",
    "        self.finished_courses = []\n",
    "        self.courses_in_progress = []\n",
    "        self.grades = {}\n",
    "\n",
    "    def grading_lecture(self,lectur, course,grade):\n",
    "        if isinstance (lectur, Lecturer) and course in self.courses_in_progress and course in lectur.courses_attached:\n",
    "            if course in lectur.grades:\n",
    "                lectur.grades[course] += [grade]\n",
    "            else:\n",
    "                lectur.grades[course] = [grade]\n",
    "        else:\n",
    "            return 'Ошибка'\n",
    "        \n",
    "\n",
    "    def rezult_courses_in_progress(self):\n",
    "        rezult = ', '.join(str(x) for x in self.courses_in_progress)\n",
    "        return rezult\n",
    "    \n",
    "    def rezult_finished_courses(self):\n",
    "        rezult = ', '.join(str(x) for x in self.finished_courses)\n",
    "        return rezult\n",
    "\n",
    "\n",
    "    def __str__(self):\n",
    "        rezult = f'Имя: {self.name} \\nФамилия: {self.surname} \\\n",
    "        \\nСреднея оценка за домашнее задание: {Lecturer.avg_grades(self)} \\\n",
    "        \\nКурсы в процессе изучения: {self.rezult_courses_in_progress()} \\\n",
    "        \\nЗавершенные курсы: {self.rezult_finished_courses()}'\n",
    "        return rezult\n",
    "    \n",
    "\n",
    "    def __lt__(self, other):\n",
    "        if not isinstance(other, Student):\n",
    "            print('Not a Student')\n",
    "            return\n",
    "        return Lecturer.avg_grades(self) < Lecturer.avg_grades(other)\n",
    "\n",
    "\n",
    "\n",
    "class Mentor:\n",
    "    def __init__(self, name, surname):\n",
    "        self.name = name\n",
    "        self.surname = surname\n",
    "        self.courses_attached = []   \n",
    "          \n",
    "        \n",
    "class Lecturer (Mentor):\n",
    "    def __init__(self, name, surname):\n",
    "        super().__init__(name,surname)\n",
    "        self.grades = {}\n",
    "    \n",
    "\n",
    "    def avg_grades(self):\n",
    "        sum_grades = 0\n",
    "        count_grades = 0\n",
    "        for course, grade_list in self.grades.items():\n",
    "            for grade_number in grade_list:\n",
    "                sum_grades += grade_number\n",
    "                count_grades += 1\n",
    "        avg_grad = sum_grades/count_grades\n",
    "        return avg_grad\n",
    "    \n",
    "    \n",
    "    def __str__(self):\n",
    "        rezult = f'Имя: {self.name} \\nФамилия: {self.surname} \\nСреднея оценка за лекции: {self.avg_grades()}'\n",
    "        return rezult\n",
    "    \n",
    "\n",
    "    def __lt__(self, other):\n",
    "        if not isinstance(other, Lecturer):\n",
    "            print('Not a Lecturer')\n",
    "            return\n",
    "        return self.avg_grades() < other.avg_grades()\n",
    "\n",
    "\n",
    "\n",
    "class Reviewer (Mentor):\n",
    "    def __init__(self, name, surname):\n",
    "        super().__init__(name,surname)\n",
    "\n",
    "\n",
    "    def rate_hw(self, student, course, grade):\n",
    "        if isinstance(student, Student) and course in self.courses_attached and course in student.courses_in_progress:\n",
    "            if course in student.grades:\n",
    "                student.grades[course] += [grade]\n",
    "            else:\n",
    "                student.grades[course] = [grade]\n",
    "        else:\n",
    "            return 'Ошибка'\n",
    "        \n",
    "\n",
    "    def __str__(self):\n",
    "        rezult = f'Имя: {self.name} \\nФамилия: {self.surname}'\n",
    "        return rezult\n",
    "        \n",
    "\n",
    "\n",
    "Ruoy_Eman = Student('Ruoy', 'Eman', 'your_gender')\n",
    "Ruoy_Eman.courses_in_progress += ['Python']\n",
    "Ruoy_Eman.courses_in_progress += ['GIT']\n",
    "Ruoy_Eman.finished_courses = ['basics python']\n",
    "\n",
    "Alex_Fridman = Student('Alex', 'Fridman', 'your_gender')\n",
    "Alex_Fridman.courses_in_progress += ['Python']\n",
    "Alex_Fridman.courses_in_progress += ['GIT']\n",
    "Alex_Fridman.finished_courses = ['basics python']\n",
    "\n",
    "Elene_Bon = Student('Elene', 'Bon', 'your_gender')\n",
    "Elene_Bon.courses_in_progress += ['GIT']\n",
    "Elene_Bon.finished_courses = ['basics python']\n",
    "\n",
    "\n",
    "reviewer_gates = Reviewer('Bill', 'Gates')\n",
    "reviewer_gates.courses_attached += ['Python']\n",
    "reviewer_gates.courses_attached += ['GIT']\n",
    "\n",
    "lector_smith = Lecturer('Leo','Smith')\n",
    "lector_smith.courses_attached += ['Python']\n",
    "\n",
    "lector_gates = Lecturer('Bill', 'Gates')\n",
    "lector_gates.courses_attached += ['GIT']\n",
    "\n",
    "\n",
    "Ruoy_Eman.grading_lecture(lector_smith,'Python',7)\n",
    "Alex_Fridman.grading_lecture(lector_smith,'Python',10)\n",
    "\n",
    "Ruoy_Eman.grading_lecture(lector_gates,'GIT',9)\n",
    "Alex_Fridman.grading_lecture(lector_gates,'GIT',8)\n",
    "Elene_Bon.grading_lecture(lector_gates,'GIT',10)\n",
    "\n",
    "reviewer_gates.rate_hw(Ruoy_Eman, 'Python', 8)\n",
    "reviewer_gates.rate_hw(Ruoy_Eman, 'Python', 9)\n",
    "reviewer_gates.rate_hw(Ruoy_Eman, 'Python', 10)\n",
    "\n",
    "reviewer_gates.rate_hw(Alex_Fridman, 'Python', 3)\n",
    "reviewer_gates.rate_hw(Alex_Fridman, 'Python', 5)\n",
    "reviewer_gates.rate_hw(Alex_Fridman, 'Python', 6)\n",
    "\n",
    "reviewer_gates.rate_hw(Ruoy_Eman, 'GIT',8)\n",
    "reviewer_gates.rate_hw(Ruoy_Eman, 'GIT',10)\n",
    "reviewer_gates.rate_hw(Ruoy_Eman, 'GIT',10)\n",
    "\n",
    "reviewer_gates.rate_hw(Alex_Fridman, 'GIT',5)\n",
    "reviewer_gates.rate_hw(Alex_Fridman, 'GIT',8)\n",
    "reviewer_gates.rate_hw(Alex_Fridman, 'GIT',9)\n",
    "\n",
    "reviewer_gates.rate_hw(Elene_Bon, 'GIT',9)\n",
    "reviewer_gates.rate_hw(Elene_Bon, 'GIT',10)\n",
    "reviewer_gates.rate_hw(Elene_Bon, 'GIT',8)\n",
    "\n",
    "\n",
    "print(reviewer_gates)"
   ]
  },
  {
   "cell_type": "code",
   "execution_count": 22,
   "metadata": {},
   "outputs": [
    {
     "name": "stdout",
     "output_type": "stream",
     "text": [
      "Имя: Leo \n",
      "Фамилия: Smith \n",
      "Среднея оценка за лекции: 8.5\n",
      "\n",
      "Имя: Bill \n",
      "Фамилия: Gates \n",
      "Среднея оценка за лекции: 9.0\n"
     ]
    }
   ],
   "source": [
    "print(lector_smith)\n",
    "print()\n",
    "print(lector_gates)"
   ]
  },
  {
   "cell_type": "code",
   "execution_count": 24,
   "metadata": {},
   "outputs": [
    {
     "name": "stdout",
     "output_type": "stream",
     "text": [
      "Имя: Elene \n",
      "Фамилия: Bon         \n",
      "Среднея оценка за домашнее задание: 9.0         \n",
      "Курсы в процессе изучения: GIT         \n",
      "Завершенные курсы: basics python\n",
      "\n",
      "Имя: Alex \n",
      "Фамилия: Fridman         \n",
      "Среднея оценка за домашнее задание: 6.0         \n",
      "Курсы в процессе изучения: Python, GIT         \n",
      "Завершенные курсы: basics python\n",
      "\n",
      "Имя: Ruoy \n",
      "Фамилия: Eman         \n",
      "Среднея оценка за домашнее задание: 9.166666666666666         \n",
      "Курсы в процессе изучения: Python, GIT         \n",
      "Завершенные курсы: basics python\n"
     ]
    }
   ],
   "source": [
    "print(Elene_Bon)\n",
    "print()\n",
    "print(Alex_Fridman)\n",
    "print()\n",
    "print(Ruoy_Eman)"
   ]
  },
  {
   "cell_type": "code",
   "execution_count": 25,
   "metadata": {},
   "outputs": [
    {
     "name": "stdout",
     "output_type": "stream",
     "text": [
      "True\n",
      "False\n",
      "True\n",
      "False\n"
     ]
    }
   ],
   "source": [
    "print(lector_smith < lector_gates)\n",
    "print(Elene_Bon < Alex_Fridman)\n",
    "print(Alex_Fridman < Ruoy_Eman)\n",
    "print(Ruoy_Eman < Elene_Bon)"
   ]
  },
  {
   "attachments": {},
   "cell_type": "markdown",
   "metadata": {},
   "source": [
    "### Задание № 4. Полевые испытания"
   ]
  },
  {
   "attachments": {},
   "cell_type": "markdown",
   "metadata": {},
   "source": [
    "Создайте по 2 экземпляра каждого класса, вызовите все созданные методы, а также реализуйте две функции:  \n",
    "1. для подсчета средней оценки за домашние задания по всем студентам в рамках конкретного курса (в качестве аргументов принимаем список студентов и название курса);  \n",
    "2. для подсчета средней оценки за лекции всех лекторов в рамках курса (в качестве аргумента принимаем список лекторов и название курса)."
   ]
  },
  {
   "attachments": {},
   "cell_type": "markdown",
   "metadata": {},
   "source": [
    "Class Student"
   ]
  },
  {
   "cell_type": "code",
   "execution_count": 26,
   "metadata": {},
   "outputs": [],
   "source": [
    "class Student:\n",
    "    def __init__(self, name, surname, gender):\n",
    "        self.name = name\n",
    "        self.surname = surname\n",
    "        self.gender = gender\n",
    "        self.finished_courses = []\n",
    "        self.courses_in_progress = []\n",
    "        self.grades = {}\n",
    "\n",
    "    def grading_lecture(self,lectur, course,grade):\n",
    "        if isinstance (lectur, Lecturer) and course in self.courses_in_progress and course in lectur.courses_attached:\n",
    "            if course in lectur.grades:\n",
    "                lectur.grades[course] += [grade]\n",
    "            else:\n",
    "                lectur.grades[course] = [grade]\n",
    "        else:\n",
    "            return 'Ошибка'\n",
    "        \n",
    "\n",
    "    def rezult_courses_in_progress(self):\n",
    "        rezult = ', '.join(str(x) for x in self.courses_in_progress)\n",
    "        return rezult\n",
    "    \n",
    "    def rezult_finished_courses(self):\n",
    "        rezult = ', '.join(str(x) for x in self.finished_courses)\n",
    "        return rezult\n",
    "\n",
    "\n",
    "    def __str__(self):\n",
    "        rezult = f'Имя: {self.name} \\nФамилия: {self.surname} \\\n",
    "        \\nСреднея оценка за домашнее задание: {Lecturer.avg_grades(self)} \\\n",
    "        \\nКурсы в процессе изучения: {self.rezult_courses_in_progress()} \\\n",
    "        \\nЗавершенные курсы: {self.rezult_finished_courses()}'\n",
    "        return rezult\n",
    "    \n",
    "\n",
    "    def __lt__(self, other):\n",
    "        if not isinstance(other, Student):\n",
    "            print('Not a Student')\n",
    "            return\n",
    "        return Lecturer.avg_grades(self) < Lecturer.avg_grades(other)"
   ]
  },
  {
   "attachments": {},
   "cell_type": "markdown",
   "metadata": {},
   "source": [
    "Class Mentor"
   ]
  },
  {
   "cell_type": "code",
   "execution_count": 35,
   "metadata": {},
   "outputs": [],
   "source": [
    "class Mentor:\n",
    "    def __init__(self, name, surname):\n",
    "        self.name = name\n",
    "        self.surname = surname\n",
    "        self.courses_attached = []   "
   ]
  },
  {
   "attachments": {},
   "cell_type": "markdown",
   "metadata": {},
   "source": [
    "Class Lecturer (Mentor)"
   ]
  },
  {
   "cell_type": "code",
   "execution_count": 36,
   "metadata": {},
   "outputs": [],
   "source": [
    "class Lecturer (Mentor):\n",
    "    def __init__(self, name, surname):\n",
    "        super().__init__(name,surname)\n",
    "        self.grades = {}\n",
    "    \n",
    "\n",
    "    def avg_grades(self):\n",
    "        sum_grades = 0\n",
    "        count_grades = 0\n",
    "        for course, grade_list in self.grades.items():\n",
    "            for grade_number in grade_list:\n",
    "                sum_grades += grade_number\n",
    "                count_grades += 1\n",
    "        avg_grad = sum_grades/count_grades\n",
    "        return avg_grad\n",
    "    \n",
    "    \n",
    "    def __str__(self):\n",
    "        rezult = f'Имя: {self.name} \\nФамилия: {self.surname} \\nСреднея оценка за лекции: {self.avg_grades()}'\n",
    "        return rezult\n",
    "    \n",
    "\n",
    "    def __lt__(self, other):\n",
    "        if not isinstance(other, Lecturer):\n",
    "            print('Not a Lecturer')\n",
    "            return\n",
    "        return self.avg_grades() < other.avg_grades()"
   ]
  },
  {
   "attachments": {},
   "cell_type": "markdown",
   "metadata": {},
   "source": [
    "Class Reviewer (Mentor)"
   ]
  },
  {
   "cell_type": "code",
   "execution_count": 37,
   "metadata": {},
   "outputs": [],
   "source": [
    "class Reviewer (Mentor):\n",
    "    def __init__(self, name, surname):\n",
    "        super().__init__(name,surname)\n",
    "\n",
    "\n",
    "    def rate_hw(self, student, course, grade):\n",
    "        if isinstance(student, Student) and course in self.courses_attached and course in student.courses_in_progress:\n",
    "            if course in student.grades:\n",
    "                student.grades[course] += [grade]\n",
    "            else:\n",
    "                student.grades[course] = [grade]\n",
    "        else:\n",
    "            return 'Ошибка'\n",
    "        \n",
    "\n",
    "    def __str__(self):\n",
    "        rezult = f'Имя: {self.name} \\nФамилия: {self.surname}'\n",
    "        return rezult"
   ]
  },
  {
   "attachments": {},
   "cell_type": "markdown",
   "metadata": {},
   "source": [
    "add instance"
   ]
  },
  {
   "cell_type": "code",
   "execution_count": 38,
   "metadata": {},
   "outputs": [],
   "source": [
    "Ruoy_Eman = Student('Ruoy', 'Eman', 'your_gender')\n",
    "Ruoy_Eman.courses_in_progress += ['Python']\n",
    "Ruoy_Eman.courses_in_progress += ['GIT']\n",
    "Ruoy_Eman.finished_courses = ['basics python']\n",
    "\n",
    "Alex_Fridman = Student('Alex', 'Fridman', 'your_gender')\n",
    "Alex_Fridman.courses_in_progress += ['Python']\n",
    "Alex_Fridman.courses_in_progress += ['GIT']\n",
    "Alex_Fridman.finished_courses = ['basics python']\n",
    "\n",
    "Elene_Bon = Student('Elene', 'Bon', 'your_gender')\n",
    "Elene_Bon.courses_in_progress += ['GIT']\n",
    "Elene_Bon.finished_courses = ['basics python']\n",
    "\n",
    "\n",
    "reviewer_gates = Reviewer('Bill', 'Gates')\n",
    "reviewer_gates.courses_attached += ['Python']\n",
    "reviewer_gates.courses_attached += ['GIT']\n",
    "\n",
    "reviewer_stark = Reviewer('Tony', 'Stark')\n",
    "reviewer_stark.courses_attached += ['Python']\n",
    "\n",
    "\n",
    "lector_smith = Lecturer('Leo','Smith')\n",
    "lector_smith.courses_attached += ['Python']\n",
    "\n",
    "lector_gates = Lecturer('Bill', 'Gates')\n",
    "lector_gates.courses_attached += ['GIT']\n",
    "\n",
    "Ruoy_Eman.grading_lecture(lector_smith,'Python',7)\n",
    "Alex_Fridman.grading_lecture(lector_smith,'Python',10)\n",
    "\n",
    "Ruoy_Eman.grading_lecture(lector_gates,'GIT',9)\n",
    "Alex_Fridman.grading_lecture(lector_gates,'GIT',8)\n",
    "Elene_Bon.grading_lecture(lector_gates,'GIT',10)\n",
    "\n",
    "reviewer_gates.rate_hw(Ruoy_Eman, 'Python', 8)\n",
    "reviewer_gates.rate_hw(Ruoy_Eman, 'Python', 9)\n",
    "reviewer_stark.rate_hw(Ruoy_Eman, 'Python', 6)\n",
    "reviewer_stark.rate_hw(Ruoy_Eman, 'Python', 5)\n",
    "\n",
    "reviewer_gates.rate_hw(Alex_Fridman, 'Python', 3)\n",
    "reviewer_gates.rate_hw(Alex_Fridman, 'Python', 5)\n",
    "reviewer_stark.rate_hw(Alex_Fridman, 'Python', 6)\n",
    "reviewer_stark.rate_hw(Alex_Fridman, 'Python', 6)\n",
    "\n",
    "reviewer_gates.rate_hw(Ruoy_Eman, 'GIT',8)\n",
    "reviewer_gates.rate_hw(Ruoy_Eman, 'GIT',10)\n",
    "reviewer_gates.rate_hw(Ruoy_Eman, 'GIT',10)\n",
    "\n",
    "reviewer_gates.rate_hw(Alex_Fridman, 'GIT',5)\n",
    "reviewer_gates.rate_hw(Alex_Fridman, 'GIT',8)\n",
    "reviewer_gates.rate_hw(Alex_Fridman, 'GIT',9)\n",
    "\n",
    "reviewer_gates.rate_hw(Elene_Bon, 'GIT',9)\n",
    "reviewer_gates.rate_hw(Elene_Bon, 'GIT',10)\n",
    "reviewer_gates.rate_hw(Elene_Bon, 'GIT',8)"
   ]
  },
  {
   "attachments": {},
   "cell_type": "markdown",
   "metadata": {},
   "source": [
    "checking all methods"
   ]
  },
  {
   "cell_type": "code",
   "execution_count": 39,
   "metadata": {},
   "outputs": [
    {
     "name": "stdout",
     "output_type": "stream",
     "text": [
      "Имя студетна - Ruoy\n",
      "Фамилия студетна - Eman\n",
      "Оценки студетна - {'Python': [8, 9, 6, 5], 'GIT': [8, 10, 10]}\n",
      "Курсы студетна - ['Python', 'GIT']\n",
      "Законченный курсы студетна - ['basics python']\n"
     ]
    }
   ],
   "source": [
    "print('Имя студетна -', Ruoy_Eman.name)\n",
    "print('Фамилия студетна -', Ruoy_Eman.surname)\n",
    "print('Оценки студетна -', Ruoy_Eman.grades)\n",
    "print('Курсы студетна -', Ruoy_Eman.courses_in_progress)\n",
    "print('Законченный курсы студетна -', Ruoy_Eman.finished_courses)"
   ]
  },
  {
   "cell_type": "code",
   "execution_count": 40,
   "metadata": {},
   "outputs": [
    {
     "name": "stdout",
     "output_type": "stream",
     "text": [
      "Имя студетна - Alex\n",
      "Фамилия студетна - Fridman\n",
      "Оценки студетна - {'Python': [3, 5, 6, 6], 'GIT': [5, 8, 9]}\n",
      "Курсы студетна - ['Python', 'GIT']\n",
      "Законченный курсы студетна - ['basics python']\n"
     ]
    }
   ],
   "source": [
    "print('Имя студетна -', Alex_Fridman.name)\n",
    "print('Фамилия студетна -', Alex_Fridman.surname)\n",
    "print('Оценки студетна -', Alex_Fridman.grades)\n",
    "print('Курсы студетна -', Alex_Fridman.courses_in_progress)\n",
    "print('Законченный курсы студетна -', Alex_Fridman.finished_courses)"
   ]
  },
  {
   "cell_type": "code",
   "execution_count": 41,
   "metadata": {},
   "outputs": [
    {
     "name": "stdout",
     "output_type": "stream",
     "text": [
      "Имя студетна - Elene\n",
      "Фамилия студетна - Bon\n",
      "Оценки студетна - {'GIT': [9, 10, 8]}\n",
      "Курсы студетна - ['GIT']\n",
      "Законченный курсы студетна - ['basics python']\n"
     ]
    }
   ],
   "source": [
    "print('Имя студетна -', Elene_Bon.name)\n",
    "print('Фамилия студетна -', Elene_Bon.surname)\n",
    "print('Оценки студетна -', Elene_Bon.grades)\n",
    "print('Курсы студетна -', Elene_Bon.courses_in_progress)\n",
    "print('Законченный курсы студетна -', Elene_Bon.finished_courses)"
   ]
  },
  {
   "cell_type": "code",
   "execution_count": 43,
   "metadata": {},
   "outputs": [
    {
     "name": "stdout",
     "output_type": "stream",
     "text": [
      "Имя лектора - Leo\n",
      "Фамилия лектора - Smith\n",
      "Оценки лектора - {'Python': [7, 10]}\n"
     ]
    }
   ],
   "source": [
    "print('Имя лектора -', lector_smith.name)\n",
    "print('Фамилия лектора -', lector_smith.surname)\n",
    "print('Оценки лектора -', lector_smith.grades)"
   ]
  },
  {
   "cell_type": "code",
   "execution_count": 44,
   "metadata": {},
   "outputs": [
    {
     "name": "stdout",
     "output_type": "stream",
     "text": [
      "Имя лектора - Bill\n",
      "Фамилия лектора - Gates\n",
      "Оценки лектора - {'GIT': [9, 8, 10]}\n"
     ]
    }
   ],
   "source": [
    "print('Имя лектора -', lector_gates.name)\n",
    "print('Фамилия лектора -', lector_gates.surname)\n",
    "print('Оценки лектора -', lector_gates.grades)"
   ]
  },
  {
   "cell_type": "code",
   "execution_count": 45,
   "metadata": {},
   "outputs": [
    {
     "name": "stdout",
     "output_type": "stream",
     "text": [
      "Имя проверяющего- Bill\n",
      "Фамилия проверяющего - Gates\n"
     ]
    }
   ],
   "source": [
    "print('Имя проверяющего-', reviewer_gates.name)\n",
    "print('Фамилия проверяющего -', reviewer_gates.surname)"
   ]
  },
  {
   "cell_type": "code",
   "execution_count": 46,
   "metadata": {},
   "outputs": [
    {
     "name": "stdout",
     "output_type": "stream",
     "text": [
      "Имя проверяющего- Tony\n",
      "Фамилия проверяющего - Stark\n"
     ]
    }
   ],
   "source": [
    "print('Имя проверяющего-', reviewer_stark.name)\n",
    "print('Фамилия проверяющего -', reviewer_stark.surname)"
   ]
  },
  {
   "cell_type": "code",
   "execution_count": 48,
   "metadata": {},
   "outputs": [
    {
     "name": "stdout",
     "output_type": "stream",
     "text": [
      "Имя: Bill \n",
      "Фамилия: Gates\n",
      "\n",
      "Имя: Tony \n",
      "Фамилия: Stark\n"
     ]
    }
   ],
   "source": [
    "print(reviewer_gates)\n",
    "print()\n",
    "print(reviewer_stark)"
   ]
  },
  {
   "cell_type": "code",
   "execution_count": 49,
   "metadata": {},
   "outputs": [
    {
     "name": "stdout",
     "output_type": "stream",
     "text": [
      "Имя: Leo \n",
      "Фамилия: Smith \n",
      "Среднея оценка за лекции: 8.5\n",
      "\n",
      "Имя: Bill \n",
      "Фамилия: Gates \n",
      "Среднея оценка за лекции: 9.0\n"
     ]
    }
   ],
   "source": [
    "print(lector_smith)\n",
    "print()\n",
    "print(lector_gates)"
   ]
  },
  {
   "cell_type": "code",
   "execution_count": 50,
   "metadata": {},
   "outputs": [
    {
     "name": "stdout",
     "output_type": "stream",
     "text": [
      "Имя: Elene \n",
      "Фамилия: Bon         \n",
      "Среднея оценка за домашнее задание: 9.0         \n",
      "Курсы в процессе изучения: GIT         \n",
      "Завершенные курсы: basics python\n",
      "\n",
      "Имя: Alex \n",
      "Фамилия: Fridman         \n",
      "Среднея оценка за домашнее задание: 6.0         \n",
      "Курсы в процессе изучения: Python, GIT         \n",
      "Завершенные курсы: basics python\n",
      "\n",
      "Имя: Ruoy \n",
      "Фамилия: Eman         \n",
      "Среднея оценка за домашнее задание: 8.0         \n",
      "Курсы в процессе изучения: Python, GIT         \n",
      "Завершенные курсы: basics python\n"
     ]
    }
   ],
   "source": [
    "print(Elene_Bon)\n",
    "print()\n",
    "print(Alex_Fridman)\n",
    "print()\n",
    "print(Ruoy_Eman)"
   ]
  },
  {
   "cell_type": "code",
   "execution_count": 51,
   "metadata": {},
   "outputs": [
    {
     "name": "stdout",
     "output_type": "stream",
     "text": [
      "True\n",
      "False\n",
      "True\n",
      "True\n"
     ]
    }
   ],
   "source": [
    "print(lector_smith < lector_gates)\n",
    "print(Elene_Bon < Alex_Fridman)\n",
    "print(Alex_Fridman < Ruoy_Eman)\n",
    "print(Ruoy_Eman < Elene_Bon)"
   ]
  },
  {
   "attachments": {},
   "cell_type": "markdown",
   "metadata": {},
   "source": [
    "Функция №1"
   ]
  },
  {
   "cell_type": "code",
   "execution_count": 107,
   "metadata": {},
   "outputs": [],
   "source": [
    "def avg_grade_of_student(list,cours):\n",
    "    sum_grade = 0\n",
    "    count_grade = 0\n",
    "    for student in list:\n",
    "        for cours_in,grade in student.grades.items():\n",
    "            if cours_in == cours:\n",
    "                for number in grade:\n",
    "                    sum_grade += number\n",
    "                    count_grade += 1\n",
    "    return round(sum_grade/count_grade,1)"
   ]
  },
  {
   "cell_type": "code",
   "execution_count": 108,
   "metadata": {},
   "outputs": [
    {
     "name": "stdout",
     "output_type": "stream",
     "text": [
      "6.0\n",
      "\n",
      "{'GIT': [9, 10, 8]}\n",
      "{'Python': [3, 5, 6, 6], 'GIT': [5, 8, 9]}\n",
      "{'Python': [8, 9, 6, 5], 'GIT': [8, 10, 10]}\n"
     ]
    }
   ],
   "source": [
    "student_list = [Elene_Bon, Alex_Fridman, Ruoy_Eman]\n",
    "courses = 'Python'\n",
    "\n",
    "print(avg_grade_of_student(student_list, courses))\n",
    "print()\n",
    "print(Elene_Bon.grades)\n",
    "print(Alex_Fridman.grades)\n",
    "print(Ruoy_Eman.grades)"
   ]
  },
  {
   "cell_type": "code",
   "execution_count": 109,
   "metadata": {},
   "outputs": [],
   "source": [
    "def avg_grade_of_lector(list,cours):\n",
    "    sum_grade = 0\n",
    "    count_grade = 0\n",
    "    for lectore in list:\n",
    "        for cours_in,grade in lectore.grades.items():\n",
    "            if cours_in == cours:\n",
    "                for number in grade:\n",
    "                    sum_grade += number\n",
    "                    count_grade += 1\n",
    "    return round(sum_grade/count_grade,1)"
   ]
  },
  {
   "cell_type": "code",
   "execution_count": 116,
   "metadata": {},
   "outputs": [
    {
     "name": "stdout",
     "output_type": "stream",
     "text": [
      "9.0\n",
      "\n",
      "{'Python': [7, 10]}\n",
      "{'GIT': [9, 8, 10]}\n"
     ]
    }
   ],
   "source": [
    "lectore_list = [lector_smith,lector_gates]\n",
    "courses = 'GIT'\n",
    "\n",
    "print(avg_grade_of_lector(lectore_list, courses))\n",
    "print()\n",
    "print(lector_smith.grades)\n",
    "print(lector_gates.grades)\n"
   ]
  }
 ],
 "metadata": {
  "kernelspec": {
   "display_name": "Python 3",
   "language": "python",
   "name": "python3"
  },
  "language_info": {
   "codemirror_mode": {
    "name": "ipython",
    "version": 3
   },
   "file_extension": ".py",
   "mimetype": "text/x-python",
   "name": "python",
   "nbconvert_exporter": "python",
   "pygments_lexer": "ipython3",
   "version": "3.9.13"
  },
  "orig_nbformat": 4
 },
 "nbformat": 4,
 "nbformat_minor": 2
}
