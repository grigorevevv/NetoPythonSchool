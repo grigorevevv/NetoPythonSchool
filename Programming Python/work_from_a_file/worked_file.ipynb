{
 "cells": [
  {
   "attachments": {},
   "cell_type": "markdown",
   "metadata": {},
   "source": [
    "### Задача №1"
   ]
  },
  {
   "attachments": {},
   "cell_type": "markdown",
   "metadata": {},
   "source": [
    "Должен получится словарь"
   ]
  },
  {
   "cell_type": "code",
   "execution_count": 132,
   "metadata": {},
   "outputs": [
    {
     "data": {
      "text/plain": [
       "[{'name_dish': 'Омлет',\n",
       "  'count_ingredients': 3,\n",
       "  'ingredients': [{'Ingredient_name': 'Яйцо',\n",
       "    'quantity': '2',\n",
       "    'measure': 'шт'},\n",
       "   {'Ingredient_name': 'Молоко', 'quantity': '100', 'measure': 'мл'},\n",
       "   {'Ingredient_name': 'Помидор', 'quantity': '2', 'measure': 'шт'}]},\n",
       " {'name_dish': 'Утка по-пекински',\n",
       "  'count_ingredients': 4,\n",
       "  'ingredients': [{'Ingredient_name': 'Утка',\n",
       "    'quantity': '1',\n",
       "    'measure': 'шт'},\n",
       "   {'Ingredient_name': 'Вода', 'quantity': '2', 'measure': 'л'},\n",
       "   {'Ingredient_name': 'Мед', 'quantity': '3', 'measure': 'ст.л'},\n",
       "   {'Ingredient_name': 'Соевый соус', 'quantity': '60', 'measure': 'мл'}]},\n",
       " {'name_dish': 'Запеченный картофель',\n",
       "  'count_ingredients': 3,\n",
       "  'ingredients': [{'Ingredient_name': 'Картофель',\n",
       "    'quantity': '1',\n",
       "    'measure': 'кг'},\n",
       "   {'Ingredient_name': 'Чеснок', 'quantity': '3', 'measure': 'зубч'},\n",
       "   {'Ingredient_name': 'Сыр гауда', 'quantity': '100', 'measure': 'г'}]},\n",
       " {'name_dish': 'Фахитос',\n",
       "  'count_ingredients': 5,\n",
       "  'ingredients': [{'Ingredient_name': 'Говядина',\n",
       "    'quantity': '500',\n",
       "    'measure': 'г'},\n",
       "   {'Ingredient_name': 'Перец сладкий', 'quantity': '1', 'measure': 'шт'},\n",
       "   {'Ingredient_name': 'Лаваш', 'quantity': '2', 'measure': 'шт'},\n",
       "   {'Ingredient_name': 'Винный уксус', 'quantity': '1', 'measure': 'ст.л'},\n",
       "   {'Ingredient_name': 'Помидор', 'quantity': '2', 'measure': 'шт'}]}]"
      ]
     },
     "execution_count": 132,
     "metadata": {},
     "output_type": "execute_result"
    }
   ],
   "source": [
    "def read_cook_book(file):\n",
    "    with open(file, 'rt',encoding='utf-8') as file:\n",
    "        cook_book = []\n",
    "        for line in file:\n",
    "            name_dish = line.strip()\n",
    "            count_ingredients = int(file.readline())\n",
    "            ingredients = []\n",
    "            for i in range(count_ingredients):\n",
    "                ingr = file.readline().strip().split(' | ')\n",
    "                Ingredient_name, quantity, measure = ingr\n",
    "                ingredients.append({'Ingredient_name': Ingredient_name,\n",
    "                                    'quantity': quantity,\n",
    "                                    'measure': measure})\n",
    "            file.readline()\n",
    "            c_b = {'name_dish': name_dish, \n",
    "                'count_ingredients': count_ingredients,\n",
    "                'ingredients': ingredients}\n",
    "            cook_book.append(c_b)\n",
    "    return cook_book\n",
    "\n",
    "\n",
    "\n",
    "#file = 'recept_cookbook.txt'\n",
    "#print(read_cook_book(file))\n",
    "read_cook_book('recept_cookbook.txt')"
   ]
  },
  {
   "attachments": {},
   "cell_type": "markdown",
   "metadata": {},
   "source": [
    "### Задача №2"
   ]
  },
  {
   "attachments": {},
   "cell_type": "markdown",
   "metadata": {},
   "source": [
    "Нужно написать функцию, которая на вход принимает список блюд из cook_book и количество персон для кого мы будем готовить  \n",
    "  \n",
    "get_shop_list_by_dishes(dishes, person_count)  \n",
    "  \n",
    "На выходе мы должны получить словарь с названием ингредиентов и его количества для блюда. Например, для такого вызова  \n",
    "  \n",
    "get_shop_list_by_dishes(['Запеченный картофель', 'Омлет'], 2)"
   ]
  },
  {
   "attachments": {},
   "cell_type": "markdown",
   "metadata": {},
   "source": [
    "Должен быть следующий результат:  \n",
    "  \n",
    "  {  \n",
    "  'Картофель': {'measure': 'кг', 'quantity': 2},  \n",
    "  'Молоко': {'measure': 'мл', 'quantity': 200},  \n",
    "  'Помидор': {'measure': 'шт', 'quantity': 4},  \n",
    "  'Сыр гауда': {'measure': 'г', 'quantity': 200},  \n",
    "  'Яйцо': {'measure': 'шт', 'quantity': 4},  \n",
    "  'Чеснок': {'measure': 'зубч', 'quantity': 6}  \n",
    "}  \n",
    "**Обратите внимание, что ингредиенты могут повторяться**"
   ]
  },
  {
   "cell_type": "code",
   "execution_count": 137,
   "metadata": {},
   "outputs": [
    {
     "data": {
      "text/plain": [
       "{'Яйцо': {'measure': 'шт', 'quantity': 4},\n",
       " 'Молоко': {'measure': 'мл', 'quantity': 200},\n",
       " 'Помидор': {'measure': 'шт', 'quantity': 4},\n",
       " 'Картофель': {'measure': 'кг', 'quantity': 2},\n",
       " 'Чеснок': {'measure': 'зубч', 'quantity': 6},\n",
       " 'Сыр гауда': {'measure': 'г', 'quantity': 200}}"
      ]
     },
     "execution_count": 137,
     "metadata": {},
     "output_type": "execute_result"
    }
   ],
   "source": [
    "\n",
    "def get_shop_list_by_dishes(dishes, person_count):\n",
    "    rezult = {}\n",
    "    for dish in read_cook_book('recept_cookbook.txt'):\n",
    "        for key, value in dish.items():\n",
    "            if value in dishes:\n",
    "                for number_ungred in range(dish['count_ingredients']):\n",
    "                    ingredient_name = dish['ingredients'][number_ungred]['Ingredient_name']\n",
    "                    measure = dish['ingredients'][number_ungred]['measure']\n",
    "                    quantity = int(dish['ingredients'][number_ungred]['quantity'])\n",
    "                    if ingredient_name in rezult:\n",
    "                        rezult[ingredient_name]['quantity'] += quantity * person_count\n",
    "                    else:\n",
    "                        rezult [ingredient_name] = {'measure': measure, 'quantity': quantity * person_count}\n",
    "\n",
    "    return rezult\n",
    "\n",
    "\n",
    "get_shop_list_by_dishes(['Запеченный картофель', 'Омлет'],2)\n",
    "      "
   ]
  },
  {
   "attachments": {},
   "cell_type": "markdown",
   "metadata": {},
   "source": [
    "### Задача №3"
   ]
  },
  {
   "attachments": {},
   "cell_type": "markdown",
   "metadata": {},
   "source": [
    "В папке лежит некоторое количество файлов. Считайте, что их количество и имена вам заранее известны  \n",
    "Необходимо объединить их в один по следующим правилам:  \n",
    "1. Содержимое исходных файлов в результирующем файле должно быть отсортировано по количеству строк в них (то есть первым нужно записать файл с наименьшим количеством строк, а последним - с наибольшим)  \n",
    "2. Содержимое файла должно предваряться служебной информацией на 2-х строках: имя файла и количество строк в нем\n"
   ]
  },
  {
   "cell_type": "code",
   "execution_count": 216,
   "metadata": {},
   "outputs": [],
   "source": [
    "def write_text_in_files(folder, rezult_file):\n",
    "    rezult = {}\n",
    "    for f, adress in folder.items():\n",
    "        with open(adress, 'rt',encoding='utf-8') as file:\n",
    "            line_count = 0\n",
    "            lines_list = []\n",
    "            for line in file:\n",
    "                lines_list.append(line.strip())\n",
    "                line_count += 1\n",
    "    \n",
    "        rezult[line_count] = {f: lines_list}\n",
    "\n",
    "    sorted_rezult = dict(sorted(rezult.items()))\n",
    "\n",
    "    with open(rezult_file, 'wt',encoding='utf-8') as file:\n",
    "        for Count_lin,text_dict in sorted_rezult.items():\n",
    "            for number_file, text_file in text_dict.items():\n",
    "                for i in text_file:\n",
    "                    file.write(i + '\\n')\n",
    "\n",
    "\n",
    "folder = {'file_1': '1.txt','file_2': '2.txt','file_3': '3.txt'}\n",
    "rezult_file = 'rezult_work.txt'\n",
    "\n",
    "write_text_in_files(folder, rezult_file)"
   ]
  }
 ],
 "metadata": {
  "kernelspec": {
   "display_name": "Python 3",
   "language": "python",
   "name": "python3"
  },
  "language_info": {
   "codemirror_mode": {
    "name": "ipython",
    "version": 3
   },
   "file_extension": ".py",
   "mimetype": "text/x-python",
   "name": "python",
   "nbconvert_exporter": "python",
   "pygments_lexer": "ipython3",
   "version": "3.9.13"
  },
  "orig_nbformat": 4
 },
 "nbformat": 4,
 "nbformat_minor": 2
}
