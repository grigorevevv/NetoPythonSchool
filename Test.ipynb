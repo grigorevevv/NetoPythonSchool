{
 "cells": [
  {
   "attachments": {},
   "cell_type": "markdown",
   "metadata": {},
   "source": [
    "## Импорт вакансий с сайта HH.ru\n",
    "### импортируем необходимые библиотеки"
   ]
  },
  {
   "cell_type": "code",
   "execution_count": 1,
   "metadata": {},
   "outputs": [],
   "source": [
    "import requests\n",
    "import openpyxl\n",
    "import numpy"
   ]
  },
  {
   "attachments": {},
   "cell_type": "markdown",
   "metadata": {},
   "source": [
    "###### pp = 20                        # количество вакансий на 1 странице    \n",
    "###### params =   \n",
    "###### 'text': 'NAME:Аналитик данных', # Текст фильтра. В имени должно быть слово например \"Аналитик\" '\"Медицинский статистик\"\n",
    "###### 'area': 1, # Поиск ощуществляется по вакансиям города Москва\n",
    "###### 'page': 0, # Индекс страницы поиска на HH\n",
    "###### 'per_page': pp # Кол-во вакансий на 1 странице"
   ]
  },
  {
   "cell_type": "code",
   "execution_count": 5,
   "metadata": {},
   "outputs": [],
   "source": [
    "pp = 20 \n",
    "params = {  \n",
    "    'text': 'NAME:Аналитик данных', \n",
    "    'area': 1, \n",
    "    'page': 0, \n",
    "    'per_page': pp\n",
    "}\n",
    "\n",
    "rezult = requests.get(f'https://api.hh.ru/vacancies/', params) # Получеам API запрос с сайтп hh\n",
    "stroka_site = rezult.content.decode()"
   ]
  },
  {
   "cell_type": "code",
   "execution_count": 7,
   "metadata": {},
   "outputs": [],
   "source": [
    "table_vakancy = []"
   ]
  },
  {
   "cell_type": "code",
   "execution_count": 9,
   "metadata": {},
   "outputs": [
    {
     "name": "stdout",
     "output_type": "stream",
     "text": [
      "\"id\":\"77334669\"\n",
      "\"premium\":false\n",
      "\"name\":\"Аналитик данных / Data Analyst\"\n",
      "\"department\":null\n",
      "\"has_test\":false\n",
      "\"response_letter_required\":false\n",
      "\"area\":{\"id\":\"1\",\"name\":\"Москва\",\"url\":\"https://api.hh.ru/areas/1\"}\n",
      "\"salary\":{\"from\":160000,\"to\":200000,\"currency\":\"RUR\",\"gross\":false}\n",
      "\"type\":{\"id\":\"open\",\"name\":\"Открытая\"}\n",
      "\"address\":null\n",
      "\"response_url\":null\n",
      "\"sort_point_distance\":null\n",
      "\"published_at\":\"2023-03-18T15:52:21+0300\"\n",
      "\"created_at\":\"2023-03-18T15:52:21+0300\"\n",
      "\"archived\":false\n",
      "\"apply_alternate_url\":\"https://hh.ru/applicant/vacancy_response?vacancyId=77334669\"\n",
      "\"insider_interview\":null\n",
      "\"url\":\"https://api.hh.ru/vacancies/77334669?host=hh.ru\"\n",
      "\"adv_response_url\":null\n",
      "\"alternate_url\":\"https://hh.ru/vacancy/77334669\"\n",
      "\"relations\":[]\n",
      "\"employer\":{\"id\":\"678191\",\"name\":\"Юрент\",\"url\":\"https://api.hh.ru/employers/678191\",\"alternate_url\":\"https://hh.ru/employer/678191\",\"logo_urls\":{\"90\":\"https://hhcdn.ru/employer-logo/3794347.png\",\"240\":\"https://hhcdn.ru/employer-logo/3794348.png\",\"original\":\"https://hhcdn.ru/employer-logo-original/838366.png\"},\"vacancies_url\":\"https://api.hh.ru/vacancies?employer_id=678191\",\"trusted\":true}\n",
      "\"snippet\":{\"requirement\":\"Опыт от 3-х лет в роли <highlighttext>Аналитика</highlighttext> <highlighttext>данных</highlighttext>, Системного <highlighttext>аналитика</highlighttext>. Отличные знания SQL и Python. Навыки визуализации <highlighttext>данных</highlighttext>, умение...\",\"responsibility\":\"Проверка продуктовых гипотез. Проведение Ad-hoc <highlighttext>аналитики</highlighttext> для поддержки принятия бизнес-решений. Поиск и исследование источников <highlighttext>данных</highlighttext>. Разработка и валидация...\"}\n",
      "\"contacts\":null\n",
      "\"schedule\":null\n",
      "\"working_days\":[]\n",
      "\"working_time_intervals\":[]\n",
      "\"working_time_modes\":[]\n",
      "\"accept_temporary\":false\n",
      "\"professional_roles\":[{\"id\":\"156\",\"name\":\"BI-аналитик, аналитик данных\"}]\n",
      "\"accept_incomplete_resumes\":fal\n"
     ]
    }
   ],
   "source": [
    "text_vakancy = ('id','premium','name','department','has_test','response_letter_required','area','salary','type',\n",
    "      'address','response_url','sort_point_distance','published_at','created_at','archived','apply_alternate_url',\n",
    "      'insider_interview','url','adv_response_url','alternate_url','relations','employer','snippet','contacts',\n",
    "      'schedule','working_days','working_time_intervals','working_time_modes','accept_temporary','professional_roles',\n",
    "      'accept_incomplete_resumes','},')\n",
    "\n",
    "end = 0\n",
    "start = 0\n",
    "\n",
    "for i in range(len(text_vakancy)-1):\n",
    "    start = stroka_site.find(text_vakancy[i], end)\n",
    "    end = stroka_site.find(text_vakancy[i+1], end)\n",
    "    ff = stroka_site[start-1:end-2]\n",
    "    print(ff)\n",
    "    table_vakancy.append(ff)"
   ]
  }
 ],
 "metadata": {
  "kernelspec": {
   "display_name": "venv",
   "language": "python",
   "name": "python3"
  },
  "language_info": {
   "codemirror_mode": {
    "name": "ipython",
    "version": 3
   },
   "file_extension": ".py",
   "mimetype": "text/x-python",
   "name": "python",
   "nbconvert_exporter": "python",
   "pygments_lexer": "ipython3",
   "version": "3.9.4"
  },
  "orig_nbformat": 4
 },
 "nbformat": 4,
 "nbformat_minor": 2
}
