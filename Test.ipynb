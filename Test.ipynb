{
 "cells": [
  {
   "attachments": {},
   "cell_type": "markdown",
   "metadata": {},
   "source": [
    "## Импорт вакансий с сайта HH.ru\n",
    "### импортируем необходимые библиотеки"
   ]
  },
  {
   "cell_type": "code",
   "execution_count": 4,
   "metadata": {},
   "outputs": [],
   "source": [
    "import requests\n",
    "import openpyxl\n",
    "import numpy"
   ]
  },
  {
   "attachments": {},
   "cell_type": "markdown",
   "metadata": {},
   "source": [
    "###### pp = 20                        # количество вакансий на 1 странице    \n",
    "###### params =   \n",
    "###### 'text': 'NAME:Аналитик данных', # Текст фильтра. В имени должно быть слово например \"Аналитик\" '\"Медицинский статистик\"\n",
    "###### 'area': 1, # Поиск ощуществляется по вакансиям города Москва\n",
    "###### 'page': 0, # Индекс страницы поиска на HH\n",
    "###### 'per_page': pp # Кол-во вакансий на 1 странице"
   ]
  },
  {
   "cell_type": "code",
   "execution_count": 5,
   "metadata": {},
   "outputs": [],
   "source": [
    "pp = 20 \n",
    "params = {  \n",
    "    'text': 'NAME:Аналитик данных', \n",
    "    'area': 1, \n",
    "    'page': 0, \n",
    "    'per_page': pp\n",
    "}\n",
    "\n",
    "rezult = requests.get(f'https://api.hh.ru/vacancies/', params) # Получеам API запрос с сайтп hh\n",
    "stroka_site = rezult.content.decode()"
   ]
  },
  {
   "attachments": {},
   "cell_type": "markdown",
   "metadata": {},
   "source": [
    "#### Проверка соединения и выгрзуки данных"
   ]
  },
  {
   "cell_type": "code",
   "execution_count": 96,
   "metadata": {},
   "outputs": [
    {
     "name": "stdout",
     "output_type": "stream",
     "text": [
      "{\"items\":[{\"id\":\"77334669\",\"premium\":false,\"name\":\"Аналитик данных / Data Analyst\",\"department\":null,\"has_test\":false,\"response_letter_required\":false,\"area\":{\"id\":\"1\",\"name\":\"Москва\",\"url\":\"https://a\n"
     ]
    }
   ],
   "source": [
    "print(stroka_site[:200]) "
   ]
  },
  {
   "attachments": {},
   "cell_type": "markdown",
   "metadata": {},
   "source": [
    "#### Список со значениями в базе данных"
   ]
  },
  {
   "cell_type": "code",
   "execution_count": 97,
   "metadata": {},
   "outputs": [],
   "source": [
    "key_vakancy = ('id','premium','name','department','has_test','response_letter_required','area','salary','type',\n",
    "      'address','response_url','sort_point_distance','published_at','created_at','archived','apply_alternate_url',\n",
    "      'insider_interview','url','adv_response_url','alternate_url','relations','employer','snippet','contacts',\n",
    "      'schedule','working_days','working_time_intervals','working_time_modes','accept_temporary','professional_roles',\n",
    "      'accept_incomplete_resumes','id')"
   ]
  },
  {
   "attachments": {},
   "cell_type": "markdown",
   "metadata": {},
   "source": [
    "#### Заносим данные в список со словарями"
   ]
  },
  {
   "cell_type": "code",
   "execution_count": 141,
   "metadata": {},
   "outputs": [],
   "source": [
    "end = 0\n",
    "start = 0\n",
    "table_vakancy = []\n",
    "\n",
    "for x in range (pp-1):\n",
    "    spisok_vakancy = {}\n",
    "    for i in key_vakancy:\n",
    "        start = stroka_site.find(i, end)\n",
    "        second = key_vakancy[key_vakancy.index(i)+1]\n",
    "        end = stroka_site.find(second,end)\n",
    "        spisok_vakancy[i] = stroka_site[start-1:end-2]\n",
    "\n",
    "    table_vakancy.append(spisok_vakancy)"
   ]
  },
  {
   "attachments": {},
   "cell_type": "markdown",
   "metadata": {},
   "source": [
    "##### Проверка"
   ]
  },
  {
   "cell_type": "code",
   "execution_count": 161,
   "metadata": {},
   "outputs": [
    {
     "name": "stdout",
     "output_type": "stream",
     "text": [
      "37872\n",
      "37856\n",
      "<class 'dict'>\n",
      "31\n",
      "\"name\":\"Аналитик/Аналитик БД\"\n",
      "<class 'list'>\n",
      "19\n",
      "\"name\":\"BI-аналитик / аналитик данных\"\n",
      "20\n"
     ]
    }
   ],
   "source": [
    "print(end)\n",
    "print(start)\n",
    "print(type(spisok_vakancy))\n",
    "print(len(spisok_vakancy))\n",
    "print(spisok_vakancy['name'])\n",
    "\n",
    "print(type(table_vakancy))\n",
    "print(len(table_vakancy))\n",
    "print(table_vakancy[1]['name'])\n",
    "\n",
    "#print(table_vakancy[1])\n",
    "#print(table_vakancy[4])\n",
    "\n",
    "print(pp)\n",
    "\n",
    "\n"
   ]
  },
  {
   "cell_type": "code",
   "execution_count": 162,
   "metadata": {},
   "outputs": [
    {
     "name": "stdout",
     "output_type": "stream",
     "text": [
      "\"Аналитик данных / Data Analyst\" ||| null ||| {\"from\":160000,\"to\":200000,\"cur ||| null\n",
      "\"BI-аналитик / аналитик данных\" ||| null ||| {\"from\":null,\"to\":300000,\"curre ||| null\n",
      "\"Аналитик данных\" ||| null ||| {\"from\":100000,\"to\":null,\"curre ||| {\"city\":\"Москва\",\"street\":\"Олонецкий проезд\",\"building\":\"4к2\",\"lat\":55.873163,\"lng\":37.66017,\"description\":null,\"raw\":\"Москва, Олонецкий проезд, 4к2\",\"metro\":{\"station_name\":\"Бабушкинская\",\"line_name\":\"Калужско-Рижская\",\"station_id\":\"6.13\",\"line_id\":\"6\",\"lat\":55.870641,\"lng\":37.664341},\"metro_stations\":[{\"station_name\":\"Бабушкинская\",\"line_name\":\"Калужско-Рижская\",\"station_id\":\"6.13\",\"line_id\":\"6\",\"lat\":55.870641,\"lng\":37.664341},{\"station_name\":\"Отрадное\",\"line_name\":\"Серпуховско-Тимирязевская\",\"station_id\":\"9.97\",\"line_id\":\"9\",\"lat\":55.864273,\"lng\":37.605066}],\"id\":\"25114\"}\n",
      "\"Аналитик\" ||| null ||| {\"from\":160000,\"to\":null,\"curre ||| null\n",
      "\"Аналитик данных / Data Analyst\" ||| {\"id\":\"3529-3529-lead\",\"name\":\"Сбер. Экспертам и руководителям\"} ||| null ||| null\n",
      "\"Data Analyst\" ||| null ||| {\"from\":200000,\"to\":350000,\"cur ||| null\n",
      "\"Аналитик данных\" ||| null ||| {\"from\":60000,\"to\":null,\"curren ||| {\"city\":\"Москва\",\"street\":\"Западный административный округ, Можайский район, Инновационный центр Сколково, Большой бульвар\",\"building\":\"62\",\"lat\":55.683518,\"lng\":37.337505,\"description\":null,\"raw\":\"Москва, Западный административный округ, Можайский район, Инновационный центр Сколково, Большой бульвар, 62\",\"metro\":null,\"metro_stations\":[],\"id\":\"6291764\"}\n",
      "\"Аналитик\" ||| null ||| {\"from\":50000,\"to\":null,\"curren ||| null\n",
      "\"Junior Analyst (Аналитик)\" ||| null ||| null ||| null\n",
      "\"Data Analyst\" ||| null ||| {\"from\":230000,\"to\":null,\"curre ||| null\n",
      "\"Аналитик данных\" ||| null ||| null ||| {\"city\":\"Москва\",\"street\":\"2-й Щемиловский переулок\",\"building\":\"4Ас4\",\"lat\":55.776178,\"lng\":37.60894,\"description\":null,\"raw\":\"Москва, 2-й Щемиловский переулок, 4Ас4\",\"metro\":null,\"metro_stations\":[],\"id\":\"11754511\"}\n",
      "\"Аналитик данных\" ||| null ||| null ||| {\"city\":\"Москва\",\"street\":\"Серебряническая набережная\",\"building\":\"29\",\"lat\":55.750504,\"lng\":37.653182,\"description\":null,\"raw\":\"Москва, Серебряническая набережная, 29\",\"metro\":{\"station_name\":\"Курская\",\"line_name\":\"МЦД - 2\",\"station_id\":\"132.726\",\"line_id\":\"132\",\"lat\":55.757622,\"lng\":37.660767},\"metro_stations\":[{\"station_name\":\"Курская\",\"line_name\":\"МЦД - 2\",\"station_id\":\"132.726\",\"line_id\":\"132\",\"lat\":55.757622,\"lng\":37.660767},{\"station_name\":\"Чкаловская\",\"line_name\":\"Люблинско-Дмитровская\",\"station_id\":\"10.72\",\"line_id\":\"10\",\"lat\":55.755951,\"lng\":37.659293}],\"id\":\"3526245\"}\n",
      "\"Аналитик данных\" ||| null ||| {\"from\":null,\"to\":250000,\"curre ||| null\n",
      "\"Аналитик данных\" ||| {\"id\":\"ozonru-2180-commerce\",\"name\":\"Ozon Офис и Коммерция\"} ||| null ||| {\"city\":\"Москва\",\"street\":\"Пресненская набережная\",\"building\":\"10\",\"lat\":55.74723295660558,\"lng\":37.536558290665916,\"description\":null,\"raw\":\"Москва, Пресненская набережная, 10\",\"metro\":{\"station_name\":\"Деловой центр\",\"line_name\":\"Большая кольцевая линия\",\"station_id\":\"97.603\",\"line_id\":\"97\",\"lat\":55.7491,\"lng\":37.5395},\"metro_stations\":[{\"station_name\":\"Деловой центр\",\"line_name\":\"Большая кольцевая линия\",\"station_id\":\"97.603\",\"line_id\":\"97\",\"lat\":55.7491,\"lng\":37.5395},{\"station_name\":\"Деловой центр\",\"line_name\":\"Солнцевская\",\"station_id\":\"133.468\",\"line_id\":\"133\",\"lat\":55.7491,\"lng\":37.5395},{\"station_name\":\"Международная\",\"line_name\":\"Филевская\",\"station_id\":\"4.179\",\"line_id\":\"4\",\"lat\":55.748324,\"lng\":37.533282}],\"id\":\"1522426\"}\n",
      "\"Аналитик данных\" ||| null ||| {\"from\":null,\"to\":120000,\"curre ||| {\"city\":\"Москва\",\"street\":\"Зорге\",\"building\":\"17\",\"lat\":55.786308,\"lng\":37.507834,\"description\":null,\"raw\":\"Москва, Зорге, 17\",\"metro\":{\"station_name\":\"Полежаевская\",\"line_name\":\"Таганско-Краснопресненская\",\"station_id\":\"7.114\",\"line_id\":\"7\",\"lat\":55.777201,\"lng\":37.517895},\"metro_stations\":[{\"station_name\":\"Полежаевская\",\"line_name\":\"Таганско-Краснопресненская\",\"station_id\":\"7.114\",\"line_id\":\"7\",\"lat\":55.777201,\"lng\":37.517895}],\"id\":\"12756\"}\n",
      "\"Аналитик данных (Дашборды, unit economy. E-commerce, Удаленно)\" ||| null ||| {\"from\":60000,\"to\":120000,\"curr ||| null\n",
      "\"Аналитик данных / Бизнес-аналитик (удаленно)\" ||| null ||| null ||| null\n",
      "\"Аналитик данных\" ||| null ||| null ||| {\"city\":\"Красногорск\",\"street\":\"бульвар Строителей\",\"building\":\"4\",\"lat\":55.814396,\"lng\":37.385861,\"description\":null,\"raw\":\"Красногорск, бульвар Строителей, 4\",\"metro\":{\"station_name\":\"Мякинино\",\"line_name\":\"Арбатско-Покровская\",\"station_id\":\"3.181\",\"line_id\":\"3\",\"lat\":55.823342,\"lng\":37.385214},\"metro_stations\":[{\"station_name\":\"Мякинино\",\"line_name\":\"Арбатско-Покровская\",\"station_id\":\"3.181\",\"line_id\":\"3\",\"lat\":55.823342,\"lng\":37.385214}],\"id\":\"646325\"}\n",
      "\"Аналитик/Аналитик БД\" ||| null ||| {\"from\":null,\"to\":150000,\"curre ||| {\"city\":\"Москва\",\"street\":\"Олимпийский проспект\",\"building\":\"16с5\",\"lat\":55.783939,\"lng\":37.624462,\"description\":null,\"raw\":\"Москва, Олимпийский проспект, 16с5\",\"metro\":{\"station_name\":\"Проспект Мира\",\"line_name\":\"Кольцевая\",\"station_id\":\"5.119\",\"line_id\":\"5\",\"lat\":55.779584,\"lng\":37.633646},\"metro_stations\":[{\"station_name\":\"Проспект Мира\",\"line_name\":\"Кольцевая\",\"station_id\":\"5.119\",\"line_id\":\"5\",\"lat\":55.779584,\"lng\":37.633646},{\"station_name\":\"Проспект Мира\",\"line_name\":\"Калужско-Рижская\",\"station_id\":\"6.120\",\"line_id\":\"6\",\"lat\":55.781827,\"lng\":37.633199}],\"id\":\"5306351\"}\n"
     ]
    }
   ],
   "source": [
    "for i in range(pp-1):\n",
    "    print(table_vakancy[i]['name'][7:],\"|||\", table_vakancy[i]['department'][13:],\"|||\", \n",
    "      table_vakancy[i]['salary'][9:40],\"|||\",table_vakancy[i]['address'][10:])"
   ]
  }
 ],
 "metadata": {
  "kernelspec": {
   "display_name": "venv",
   "language": "python",
   "name": "python3"
  },
  "language_info": {
   "codemirror_mode": {
    "name": "ipython",
    "version": 3
   },
   "file_extension": ".py",
   "mimetype": "text/x-python",
   "name": "python",
   "nbconvert_exporter": "python",
   "pygments_lexer": "ipython3",
   "version": "3.9.13"
  },
  "orig_nbformat": 4
 },
 "nbformat": 4,
 "nbformat_minor": 2
}
